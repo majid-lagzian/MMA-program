{
 "cells": [
  {
   "cell_type": "markdown",
   "id": "AT5OogJVFbwu",
   "metadata": {
    "id": "AT5OogJVFbwu"
   },
   "source": [
    "# Star Hotels Project\n",
    "\n",
    "## Context\n",
    "\n",
    "A significant number of hotel bookings are called-off due to cancellations or no-shows. The typical reasons for cancellations include change of plans, scheduling conflicts, etc. This is often made easier by the option to do so free of charge or preferably at a low cost which is beneficial to hotel guests but it is a less desirable and possibly revenue-diminishing factor for hotels to deal with. Such losses are particularly high on last-minute cancellations. \n",
    "\n",
    "The new technologies involving online booking channels have dramatically changed customers’ booking possibilities and behavior. This adds a further dimension to the challenge of how hotels handle cancellations, which are no longer limited to traditional booking and guest characteristics. \n",
    "\n",
    "The cancellation of bookings impact a hotel on various fronts:\n",
    "* Loss of resources (revenue) when the hotel cannot resell the room.\n",
    "* Additional costs of distribution channels by increasing commissions or paying for publicity to help sell these rooms.\n",
    "* Lowering prices last minute, so the hotel can resell a room, resulting in reducing the profit margin.\n",
    "* Human resources to make arrangements for the guests.\n",
    "\n",
    "## Objective\n",
    "The increasing number of cancellations calls for a Machine Learning based solution that can help in predicting which booking is likely to be canceled. Star Hotels Group has a chain of hotels in Portugal, they are facing problems with the high number of booking cancellations and have reached out to your firm for data-driven solutions. You as a data scientist have to analyze the data provided to find which factors have a high influence on booking cancellations, build a predictive model that can predict which booking is going to be canceled in advance, and help in formulating profitable policies for cancellations and refunds.\n",
    "\n",
    "## Data Description\n",
    "The data contains the different attributes of customers' booking details. The detailed data dictionary is given below.\n",
    "\n",
    "\n",
    "**Data Dictionary**\n",
    "\n",
    "* no_of_adults: Number of adults\n",
    "* no_of_children: Number of Children\n",
    "* no_of_weekend_nights: Number of weekend nights (Saturday or Sunday) the guest stayed or booked to stay at the hotel\n",
    "* no_of_week_nights: Number of week nights (Monday to Friday) the guest stayed or booked to stay at the hotel\n",
    "* type_of_meal_plan: Type of meal plan booked by the customer:\n",
    "    * Not Selected – No meal plan selected\n",
    "    * Meal Plan 1 – Breakfast\n",
    "    * Meal Plan 2 – Half board (breakfast and one other meal)\n",
    "    * Meal Plan 3 – Full board (breakfast, lunch, and dinner)\n",
    "* required_car_parking_space: Does the customer require a car parking space? (0 - No, 1- Yes)\n",
    "* room_type_reserved: Type of room reserved by the customer. The values are ciphered (encoded) by Star Hotels.\n",
    "* lead_time: Number of days between the date of booking and the arrival date\n",
    "* arrival_year: Year of arrival date\n",
    "* arrival_month: Month of arrival date\n",
    "* arrival_date: Date of the month\n",
    "* market_segment_type: Market segment designation.\n",
    "* repeated_guest: Is the customer a repeated guest? (0 - No, 1- Yes)\n",
    "* no_of_previous_cancellations: Number of previous bookings that were canceled by the customer prior to the current booking\n",
    "* no_of_previous_bookings_not_canceled: Number of previous bookings not canceled by the customer prior to the current booking\n",
    "* avg_price_per_room: Average price per day of the reservation; prices of the rooms are dynamic. (in euros)\n",
    "* no_of_special_requests: Total number of special requests made by the customer (e.g. high floor, view from the room, etc)\n",
    "* booking_status: Flag indicating if the booking was canceled or not."
   ]
  },
  {
   "cell_type": "markdown",
   "id": "dirty-island",
   "metadata": {
    "id": "dirty-island"
   },
   "source": [
    "## First, we load the required libraries for data analysis"
   ]
  },
  {
   "cell_type": "code",
   "execution_count": 2,
   "id": "statewide-still",
   "metadata": {
    "id": "statewide-still"
   },
   "outputs": [],
   "source": [
    "#I am starting by loading in all of the necessary data sets\n",
    "\n",
    "\n",
    "# Library to suppress warnings or deprecation notes\n",
    "import warnings\n",
    "\n",
    "warnings.filterwarnings(\"ignore\")\n",
    "\n",
    "# Libraries to help with reading and manipulating data\n",
    "\n",
    "import pandas as pd\n",
    "import numpy as np\n",
    "\n",
    "# Library to split data\n",
    "from sklearn.model_selection import train_test_split\n",
    "\n",
    "# libaries to help with data visualization\n",
    "import matplotlib.pyplot as plt\n",
    "import seaborn as sns\n",
    "\n",
    "# Removes the limit for the number of displayed columns\n",
    "pd.set_option(\"display.max_columns\", None)\n",
    "# Sets the limit for the number of displayed rows\n",
    "pd.set_option(\"display.max_rows\", 200)\n",
    "\n",
    "# Libraries to build decision tree classifier\n",
    "from sklearn.tree import DecisionTreeClassifier\n",
    "from sklearn import tree\n",
    "\n",
    "# To tune different models\n",
    "from sklearn.model_selection import GridSearchCV\n",
    "\n",
    "# To perform statistical analysis\n",
    "import scipy.stats as stats\n",
    "\n",
    "# To get diferent metric scores\n",
    "from sklearn.metrics import (\n",
    "    f1_score,\n",
    "    accuracy_score,\n",
    "    recall_score,\n",
    "    precision_score,\n",
    "    confusion_matrix,\n",
    "    #plot_confusion_matrix,\n",
    "    ConfusionMatrixDisplay,\n",
    "    make_scorer,\n",
    ")"
   ]
  },
  {
   "cell_type": "markdown",
   "id": "36aa32d4",
   "metadata": {},
   "source": [
    "## Read-in the dataset"
   ]
  },
  {
   "cell_type": "code",
   "execution_count": 3,
   "id": "0f5e7d22",
   "metadata": {},
   "outputs": [],
   "source": [
    "stardata = pd.read_csv(\"StarHotelsGroup.csv\")"
   ]
  },
  {
   "cell_type": "code",
   "execution_count": 4,
   "id": "5f489fa4",
   "metadata": {},
   "outputs": [
    {
     "data": {
      "text/html": [
       "<div>\n",
       "<style scoped>\n",
       "    .dataframe tbody tr th:only-of-type {\n",
       "        vertical-align: middle;\n",
       "    }\n",
       "\n",
       "    .dataframe tbody tr th {\n",
       "        vertical-align: top;\n",
       "    }\n",
       "\n",
       "    .dataframe thead th {\n",
       "        text-align: right;\n",
       "    }\n",
       "</style>\n",
       "<table border=\"1\" class=\"dataframe\">\n",
       "  <thead>\n",
       "    <tr style=\"text-align: right;\">\n",
       "      <th></th>\n",
       "      <th>no_of_adults</th>\n",
       "      <th>no_of_children</th>\n",
       "      <th>no_of_weekend_nights</th>\n",
       "      <th>no_of_week_nights</th>\n",
       "      <th>type_of_meal_plan</th>\n",
       "      <th>required_car_parking_space</th>\n",
       "      <th>room_type_reserved</th>\n",
       "      <th>lead_time</th>\n",
       "      <th>arrival_year</th>\n",
       "      <th>arrival_month</th>\n",
       "      <th>arrival_date</th>\n",
       "      <th>market_segment_type</th>\n",
       "      <th>repeated_guest</th>\n",
       "      <th>no_of_previous_cancellations</th>\n",
       "      <th>no_of_previous_bookings_not_canceled</th>\n",
       "      <th>avg_price_per_room</th>\n",
       "      <th>no_of_special_requests</th>\n",
       "      <th>booking_status</th>\n",
       "    </tr>\n",
       "  </thead>\n",
       "  <tbody>\n",
       "    <tr>\n",
       "      <th>0</th>\n",
       "      <td>2</td>\n",
       "      <td>0</td>\n",
       "      <td>1</td>\n",
       "      <td>2</td>\n",
       "      <td>Meal Plan 1</td>\n",
       "      <td>0</td>\n",
       "      <td>Room_Type 1</td>\n",
       "      <td>224</td>\n",
       "      <td>2017</td>\n",
       "      <td>10</td>\n",
       "      <td>2</td>\n",
       "      <td>Offline</td>\n",
       "      <td>0</td>\n",
       "      <td>0</td>\n",
       "      <td>0</td>\n",
       "      <td>65.00</td>\n",
       "      <td>0</td>\n",
       "      <td>Not_Canceled</td>\n",
       "    </tr>\n",
       "    <tr>\n",
       "      <th>1</th>\n",
       "      <td>2</td>\n",
       "      <td>0</td>\n",
       "      <td>2</td>\n",
       "      <td>3</td>\n",
       "      <td>Not Selected</td>\n",
       "      <td>0</td>\n",
       "      <td>Room_Type 1</td>\n",
       "      <td>5</td>\n",
       "      <td>2018</td>\n",
       "      <td>11</td>\n",
       "      <td>6</td>\n",
       "      <td>Online</td>\n",
       "      <td>0</td>\n",
       "      <td>0</td>\n",
       "      <td>0</td>\n",
       "      <td>106.68</td>\n",
       "      <td>1</td>\n",
       "      <td>Not_Canceled</td>\n",
       "    </tr>\n",
       "    <tr>\n",
       "      <th>2</th>\n",
       "      <td>1</td>\n",
       "      <td>0</td>\n",
       "      <td>2</td>\n",
       "      <td>1</td>\n",
       "      <td>Meal Plan 1</td>\n",
       "      <td>0</td>\n",
       "      <td>Room_Type 1</td>\n",
       "      <td>1</td>\n",
       "      <td>2018</td>\n",
       "      <td>2</td>\n",
       "      <td>28</td>\n",
       "      <td>Online</td>\n",
       "      <td>0</td>\n",
       "      <td>0</td>\n",
       "      <td>0</td>\n",
       "      <td>60.00</td>\n",
       "      <td>0</td>\n",
       "      <td>Canceled</td>\n",
       "    </tr>\n",
       "    <tr>\n",
       "      <th>3</th>\n",
       "      <td>2</td>\n",
       "      <td>0</td>\n",
       "      <td>0</td>\n",
       "      <td>2</td>\n",
       "      <td>Meal Plan 1</td>\n",
       "      <td>0</td>\n",
       "      <td>Room_Type 1</td>\n",
       "      <td>211</td>\n",
       "      <td>2018</td>\n",
       "      <td>5</td>\n",
       "      <td>20</td>\n",
       "      <td>Online</td>\n",
       "      <td>0</td>\n",
       "      <td>0</td>\n",
       "      <td>0</td>\n",
       "      <td>100.00</td>\n",
       "      <td>0</td>\n",
       "      <td>Canceled</td>\n",
       "    </tr>\n",
       "    <tr>\n",
       "      <th>4</th>\n",
       "      <td>3</td>\n",
       "      <td>0</td>\n",
       "      <td>0</td>\n",
       "      <td>3</td>\n",
       "      <td>Not Selected</td>\n",
       "      <td>0</td>\n",
       "      <td>Room_Type 1</td>\n",
       "      <td>277</td>\n",
       "      <td>2019</td>\n",
       "      <td>7</td>\n",
       "      <td>13</td>\n",
       "      <td>Online</td>\n",
       "      <td>0</td>\n",
       "      <td>0</td>\n",
       "      <td>0</td>\n",
       "      <td>89.10</td>\n",
       "      <td>2</td>\n",
       "      <td>Canceled</td>\n",
       "    </tr>\n",
       "  </tbody>\n",
       "</table>\n",
       "</div>"
      ],
      "text/plain": [
       "   no_of_adults  no_of_children  no_of_weekend_nights  no_of_week_nights  \\\n",
       "0             2               0                     1                  2   \n",
       "1             2               0                     2                  3   \n",
       "2             1               0                     2                  1   \n",
       "3             2               0                     0                  2   \n",
       "4             3               0                     0                  3   \n",
       "\n",
       "  type_of_meal_plan  required_car_parking_space room_type_reserved  lead_time  \\\n",
       "0       Meal Plan 1                           0        Room_Type 1        224   \n",
       "1      Not Selected                           0        Room_Type 1          5   \n",
       "2       Meal Plan 1                           0        Room_Type 1          1   \n",
       "3       Meal Plan 1                           0        Room_Type 1        211   \n",
       "4      Not Selected                           0        Room_Type 1        277   \n",
       "\n",
       "   arrival_year  arrival_month  arrival_date market_segment_type  \\\n",
       "0          2017             10             2             Offline   \n",
       "1          2018             11             6              Online   \n",
       "2          2018              2            28              Online   \n",
       "3          2018              5            20              Online   \n",
       "4          2019              7            13              Online   \n",
       "\n",
       "   repeated_guest  no_of_previous_cancellations  \\\n",
       "0               0                             0   \n",
       "1               0                             0   \n",
       "2               0                             0   \n",
       "3               0                             0   \n",
       "4               0                             0   \n",
       "\n",
       "   no_of_previous_bookings_not_canceled  avg_price_per_room  \\\n",
       "0                                     0               65.00   \n",
       "1                                     0              106.68   \n",
       "2                                     0               60.00   \n",
       "3                                     0              100.00   \n",
       "4                                     0               89.10   \n",
       "\n",
       "   no_of_special_requests booking_status  \n",
       "0                       0   Not_Canceled  \n",
       "1                       1   Not_Canceled  \n",
       "2                       0       Canceled  \n",
       "3                       0       Canceled  \n",
       "4                       2       Canceled  "
      ]
     },
     "execution_count": 4,
     "metadata": {},
     "output_type": "execute_result"
    }
   ],
   "source": [
    "stardata.head()"
   ]
  },
  {
   "cell_type": "code",
   "execution_count": 5,
   "id": "012dabca",
   "metadata": {},
   "outputs": [
    {
     "data": {
      "text/html": [
       "<div>\n",
       "<style scoped>\n",
       "    .dataframe tbody tr th:only-of-type {\n",
       "        vertical-align: middle;\n",
       "    }\n",
       "\n",
       "    .dataframe tbody tr th {\n",
       "        vertical-align: top;\n",
       "    }\n",
       "\n",
       "    .dataframe thead th {\n",
       "        text-align: right;\n",
       "    }\n",
       "</style>\n",
       "<table border=\"1\" class=\"dataframe\">\n",
       "  <thead>\n",
       "    <tr style=\"text-align: right;\">\n",
       "      <th></th>\n",
       "      <th>no_of_adults</th>\n",
       "      <th>no_of_children</th>\n",
       "      <th>no_of_weekend_nights</th>\n",
       "      <th>no_of_week_nights</th>\n",
       "      <th>type_of_meal_plan</th>\n",
       "      <th>required_car_parking_space</th>\n",
       "      <th>room_type_reserved</th>\n",
       "      <th>lead_time</th>\n",
       "      <th>arrival_year</th>\n",
       "      <th>arrival_month</th>\n",
       "      <th>arrival_date</th>\n",
       "      <th>market_segment_type</th>\n",
       "      <th>repeated_guest</th>\n",
       "      <th>no_of_previous_cancellations</th>\n",
       "      <th>no_of_previous_bookings_not_canceled</th>\n",
       "      <th>avg_price_per_room</th>\n",
       "      <th>no_of_special_requests</th>\n",
       "      <th>booking_status</th>\n",
       "    </tr>\n",
       "  </thead>\n",
       "  <tbody>\n",
       "    <tr>\n",
       "      <th>56921</th>\n",
       "      <td>2</td>\n",
       "      <td>1</td>\n",
       "      <td>0</td>\n",
       "      <td>1</td>\n",
       "      <td>Meal Plan 2</td>\n",
       "      <td>0</td>\n",
       "      <td>Room_Type 4</td>\n",
       "      <td>45</td>\n",
       "      <td>2019</td>\n",
       "      <td>6</td>\n",
       "      <td>15</td>\n",
       "      <td>Online</td>\n",
       "      <td>0</td>\n",
       "      <td>0</td>\n",
       "      <td>0</td>\n",
       "      <td>163.88</td>\n",
       "      <td>1</td>\n",
       "      <td>Not_Canceled</td>\n",
       "    </tr>\n",
       "    <tr>\n",
       "      <th>56922</th>\n",
       "      <td>2</td>\n",
       "      <td>0</td>\n",
       "      <td>1</td>\n",
       "      <td>1</td>\n",
       "      <td>Meal Plan 1</td>\n",
       "      <td>0</td>\n",
       "      <td>Room_Type 1</td>\n",
       "      <td>320</td>\n",
       "      <td>2019</td>\n",
       "      <td>5</td>\n",
       "      <td>15</td>\n",
       "      <td>Offline</td>\n",
       "      <td>0</td>\n",
       "      <td>0</td>\n",
       "      <td>0</td>\n",
       "      <td>90.00</td>\n",
       "      <td>1</td>\n",
       "      <td>Canceled</td>\n",
       "    </tr>\n",
       "    <tr>\n",
       "      <th>56923</th>\n",
       "      <td>2</td>\n",
       "      <td>0</td>\n",
       "      <td>0</td>\n",
       "      <td>3</td>\n",
       "      <td>Not Selected</td>\n",
       "      <td>0</td>\n",
       "      <td>Room_Type 1</td>\n",
       "      <td>63</td>\n",
       "      <td>2018</td>\n",
       "      <td>4</td>\n",
       "      <td>21</td>\n",
       "      <td>Online</td>\n",
       "      <td>0</td>\n",
       "      <td>0</td>\n",
       "      <td>0</td>\n",
       "      <td>94.50</td>\n",
       "      <td>0</td>\n",
       "      <td>Canceled</td>\n",
       "    </tr>\n",
       "    <tr>\n",
       "      <th>56924</th>\n",
       "      <td>2</td>\n",
       "      <td>0</td>\n",
       "      <td>2</td>\n",
       "      <td>2</td>\n",
       "      <td>Not Selected</td>\n",
       "      <td>0</td>\n",
       "      <td>Room_Type 1</td>\n",
       "      <td>6</td>\n",
       "      <td>2019</td>\n",
       "      <td>4</td>\n",
       "      <td>28</td>\n",
       "      <td>Online</td>\n",
       "      <td>0</td>\n",
       "      <td>0</td>\n",
       "      <td>0</td>\n",
       "      <td>162.50</td>\n",
       "      <td>2</td>\n",
       "      <td>Not_Canceled</td>\n",
       "    </tr>\n",
       "    <tr>\n",
       "      <th>56925</th>\n",
       "      <td>2</td>\n",
       "      <td>0</td>\n",
       "      <td>1</td>\n",
       "      <td>2</td>\n",
       "      <td>Meal Plan 1</td>\n",
       "      <td>0</td>\n",
       "      <td>Room_Type 1</td>\n",
       "      <td>207</td>\n",
       "      <td>2018</td>\n",
       "      <td>12</td>\n",
       "      <td>30</td>\n",
       "      <td>Offline</td>\n",
       "      <td>0</td>\n",
       "      <td>0</td>\n",
       "      <td>0</td>\n",
       "      <td>161.67</td>\n",
       "      <td>0</td>\n",
       "      <td>Not_Canceled</td>\n",
       "    </tr>\n",
       "  </tbody>\n",
       "</table>\n",
       "</div>"
      ],
      "text/plain": [
       "       no_of_adults  no_of_children  no_of_weekend_nights  no_of_week_nights  \\\n",
       "56921             2               1                     0                  1   \n",
       "56922             2               0                     1                  1   \n",
       "56923             2               0                     0                  3   \n",
       "56924             2               0                     2                  2   \n",
       "56925             2               0                     1                  2   \n",
       "\n",
       "      type_of_meal_plan  required_car_parking_space room_type_reserved  \\\n",
       "56921       Meal Plan 2                           0        Room_Type 4   \n",
       "56922       Meal Plan 1                           0        Room_Type 1   \n",
       "56923      Not Selected                           0        Room_Type 1   \n",
       "56924      Not Selected                           0        Room_Type 1   \n",
       "56925       Meal Plan 1                           0        Room_Type 1   \n",
       "\n",
       "       lead_time  arrival_year  arrival_month  arrival_date  \\\n",
       "56921         45          2019              6            15   \n",
       "56922        320          2019              5            15   \n",
       "56923         63          2018              4            21   \n",
       "56924          6          2019              4            28   \n",
       "56925        207          2018             12            30   \n",
       "\n",
       "      market_segment_type  repeated_guest  no_of_previous_cancellations  \\\n",
       "56921              Online               0                             0   \n",
       "56922             Offline               0                             0   \n",
       "56923              Online               0                             0   \n",
       "56924              Online               0                             0   \n",
       "56925             Offline               0                             0   \n",
       "\n",
       "       no_of_previous_bookings_not_canceled  avg_price_per_room  \\\n",
       "56921                                     0              163.88   \n",
       "56922                                     0               90.00   \n",
       "56923                                     0               94.50   \n",
       "56924                                     0              162.50   \n",
       "56925                                     0              161.67   \n",
       "\n",
       "       no_of_special_requests booking_status  \n",
       "56921                       1   Not_Canceled  \n",
       "56922                       1       Canceled  \n",
       "56923                       0       Canceled  \n",
       "56924                       2   Not_Canceled  \n",
       "56925                       0   Not_Canceled  "
      ]
     },
     "execution_count": 5,
     "metadata": {},
     "output_type": "execute_result"
    }
   ],
   "source": [
    "stardata.tail()"
   ]
  },
  {
   "cell_type": "code",
   "execution_count": 6,
   "id": "a467282b",
   "metadata": {},
   "outputs": [
    {
     "data": {
      "text/plain": [
       "(56926, 18)"
      ]
     },
     "execution_count": 6,
     "metadata": {},
     "output_type": "execute_result"
    }
   ],
   "source": [
    "stardata.shape"
   ]
  },
  {
   "cell_type": "markdown",
   "id": "2efe7736",
   "metadata": {},
   "source": [
    "#### Observation\n",
    "* There are 56,926 rows and 18 columns."
   ]
  },
  {
   "cell_type": "markdown",
   "id": "desperate-infection",
   "metadata": {
    "id": "desperate-infection"
   },
   "source": [
    "## Data Overview\n",
    "\n",
    "- Observations\n",
    "- Sanity checks"
   ]
  },
  {
   "cell_type": "code",
   "execution_count": 7,
   "id": "persistent-juice",
   "metadata": {
    "id": "persistent-juice"
   },
   "outputs": [
    {
     "name": "stdout",
     "output_type": "stream",
     "text": [
      "<class 'pandas.core.frame.DataFrame'>\n",
      "RangeIndex: 56926 entries, 0 to 56925\n",
      "Data columns (total 18 columns):\n",
      " #   Column                                Non-Null Count  Dtype  \n",
      "---  ------                                --------------  -----  \n",
      " 0   no_of_adults                          56926 non-null  int64  \n",
      " 1   no_of_children                        56926 non-null  int64  \n",
      " 2   no_of_weekend_nights                  56926 non-null  int64  \n",
      " 3   no_of_week_nights                     56926 non-null  int64  \n",
      " 4   type_of_meal_plan                     56926 non-null  object \n",
      " 5   required_car_parking_space            56926 non-null  int64  \n",
      " 6   room_type_reserved                    56926 non-null  object \n",
      " 7   lead_time                             56926 non-null  int64  \n",
      " 8   arrival_year                          56926 non-null  int64  \n",
      " 9   arrival_month                         56926 non-null  int64  \n",
      " 10  arrival_date                          56926 non-null  int64  \n",
      " 11  market_segment_type                   56926 non-null  object \n",
      " 12  repeated_guest                        56926 non-null  int64  \n",
      " 13  no_of_previous_cancellations          56926 non-null  int64  \n",
      " 14  no_of_previous_bookings_not_canceled  56926 non-null  int64  \n",
      " 15  avg_price_per_room                    56926 non-null  float64\n",
      " 16  no_of_special_requests                56926 non-null  int64  \n",
      " 17  booking_status                        56926 non-null  object \n",
      "dtypes: float64(1), int64(13), object(4)\n",
      "memory usage: 7.8+ MB\n"
     ]
    }
   ],
   "source": [
    "stardata.info()"
   ]
  },
  {
   "cell_type": "markdown",
   "id": "729e3b13",
   "metadata": {},
   "source": [
    "#### Observation\n",
    "* There are 1 float64 type, 13 int64 typees, and 4 objects. There doesn't appear to be any missing values."
   ]
  },
  {
   "cell_type": "code",
   "execution_count": 8,
   "id": "d1a11072",
   "metadata": {},
   "outputs": [
    {
     "data": {
      "text/html": [
       "<div>\n",
       "<style scoped>\n",
       "    .dataframe tbody tr th:only-of-type {\n",
       "        vertical-align: middle;\n",
       "    }\n",
       "\n",
       "    .dataframe tbody tr th {\n",
       "        vertical-align: top;\n",
       "    }\n",
       "\n",
       "    .dataframe thead th {\n",
       "        text-align: right;\n",
       "    }\n",
       "</style>\n",
       "<table border=\"1\" class=\"dataframe\">\n",
       "  <thead>\n",
       "    <tr style=\"text-align: right;\">\n",
       "      <th></th>\n",
       "      <th>no_of_adults</th>\n",
       "      <th>no_of_children</th>\n",
       "      <th>no_of_weekend_nights</th>\n",
       "      <th>no_of_week_nights</th>\n",
       "      <th>required_car_parking_space</th>\n",
       "      <th>lead_time</th>\n",
       "      <th>arrival_year</th>\n",
       "      <th>arrival_month</th>\n",
       "      <th>arrival_date</th>\n",
       "      <th>repeated_guest</th>\n",
       "      <th>no_of_previous_cancellations</th>\n",
       "      <th>no_of_previous_bookings_not_canceled</th>\n",
       "      <th>avg_price_per_room</th>\n",
       "      <th>no_of_special_requests</th>\n",
       "    </tr>\n",
       "  </thead>\n",
       "  <tbody>\n",
       "    <tr>\n",
       "      <th>count</th>\n",
       "      <td>56926.000000</td>\n",
       "      <td>56926.000000</td>\n",
       "      <td>56926.00000</td>\n",
       "      <td>56926.000000</td>\n",
       "      <td>56926.000000</td>\n",
       "      <td>56926.000000</td>\n",
       "      <td>56926.000000</td>\n",
       "      <td>56926.000000</td>\n",
       "      <td>56926.000000</td>\n",
       "      <td>56926.000000</td>\n",
       "      <td>56926.000000</td>\n",
       "      <td>56926.000000</td>\n",
       "      <td>56926.000000</td>\n",
       "      <td>56926.000000</td>\n",
       "    </tr>\n",
       "    <tr>\n",
       "      <th>mean</th>\n",
       "      <td>1.875856</td>\n",
       "      <td>0.110723</td>\n",
       "      <td>0.83584</td>\n",
       "      <td>2.261901</td>\n",
       "      <td>0.026332</td>\n",
       "      <td>93.713909</td>\n",
       "      <td>2018.248340</td>\n",
       "      <td>6.490215</td>\n",
       "      <td>15.635913</td>\n",
       "      <td>0.024664</td>\n",
       "      <td>0.020939</td>\n",
       "      <td>0.167902</td>\n",
       "      <td>109.610570</td>\n",
       "      <td>0.666040</td>\n",
       "    </tr>\n",
       "    <tr>\n",
       "      <th>std</th>\n",
       "      <td>0.518667</td>\n",
       "      <td>0.408885</td>\n",
       "      <td>0.87590</td>\n",
       "      <td>1.432371</td>\n",
       "      <td>0.160123</td>\n",
       "      <td>92.408296</td>\n",
       "      <td>0.644619</td>\n",
       "      <td>3.027185</td>\n",
       "      <td>8.718717</td>\n",
       "      <td>0.155099</td>\n",
       "      <td>0.326142</td>\n",
       "      <td>1.943647</td>\n",
       "      <td>38.256075</td>\n",
       "      <td>0.814257</td>\n",
       "    </tr>\n",
       "    <tr>\n",
       "      <th>min</th>\n",
       "      <td>0.000000</td>\n",
       "      <td>0.000000</td>\n",
       "      <td>0.00000</td>\n",
       "      <td>0.000000</td>\n",
       "      <td>0.000000</td>\n",
       "      <td>0.000000</td>\n",
       "      <td>2017.000000</td>\n",
       "      <td>1.000000</td>\n",
       "      <td>1.000000</td>\n",
       "      <td>0.000000</td>\n",
       "      <td>0.000000</td>\n",
       "      <td>0.000000</td>\n",
       "      <td>0.000000</td>\n",
       "      <td>0.000000</td>\n",
       "    </tr>\n",
       "    <tr>\n",
       "      <th>25%</th>\n",
       "      <td>2.000000</td>\n",
       "      <td>0.000000</td>\n",
       "      <td>0.00000</td>\n",
       "      <td>1.000000</td>\n",
       "      <td>0.000000</td>\n",
       "      <td>21.000000</td>\n",
       "      <td>2018.000000</td>\n",
       "      <td>4.000000</td>\n",
       "      <td>8.000000</td>\n",
       "      <td>0.000000</td>\n",
       "      <td>0.000000</td>\n",
       "      <td>0.000000</td>\n",
       "      <td>85.000000</td>\n",
       "      <td>0.000000</td>\n",
       "    </tr>\n",
       "    <tr>\n",
       "      <th>50%</th>\n",
       "      <td>2.000000</td>\n",
       "      <td>0.000000</td>\n",
       "      <td>1.00000</td>\n",
       "      <td>2.000000</td>\n",
       "      <td>0.000000</td>\n",
       "      <td>65.000000</td>\n",
       "      <td>2018.000000</td>\n",
       "      <td>6.000000</td>\n",
       "      <td>16.000000</td>\n",
       "      <td>0.000000</td>\n",
       "      <td>0.000000</td>\n",
       "      <td>0.000000</td>\n",
       "      <td>105.000000</td>\n",
       "      <td>0.000000</td>\n",
       "    </tr>\n",
       "    <tr>\n",
       "      <th>75%</th>\n",
       "      <td>2.000000</td>\n",
       "      <td>0.000000</td>\n",
       "      <td>2.00000</td>\n",
       "      <td>3.000000</td>\n",
       "      <td>0.000000</td>\n",
       "      <td>142.000000</td>\n",
       "      <td>2019.000000</td>\n",
       "      <td>9.000000</td>\n",
       "      <td>23.000000</td>\n",
       "      <td>0.000000</td>\n",
       "      <td>0.000000</td>\n",
       "      <td>0.000000</td>\n",
       "      <td>129.700000</td>\n",
       "      <td>1.000000</td>\n",
       "    </tr>\n",
       "    <tr>\n",
       "      <th>max</th>\n",
       "      <td>4.000000</td>\n",
       "      <td>10.000000</td>\n",
       "      <td>8.00000</td>\n",
       "      <td>17.000000</td>\n",
       "      <td>1.000000</td>\n",
       "      <td>521.000000</td>\n",
       "      <td>2019.000000</td>\n",
       "      <td>12.000000</td>\n",
       "      <td>31.000000</td>\n",
       "      <td>1.000000</td>\n",
       "      <td>13.000000</td>\n",
       "      <td>72.000000</td>\n",
       "      <td>540.000000</td>\n",
       "      <td>5.000000</td>\n",
       "    </tr>\n",
       "  </tbody>\n",
       "</table>\n",
       "</div>"
      ],
      "text/plain": [
       "       no_of_adults  no_of_children  no_of_weekend_nights  no_of_week_nights  \\\n",
       "count  56926.000000    56926.000000           56926.00000       56926.000000   \n",
       "mean       1.875856        0.110723               0.83584           2.261901   \n",
       "std        0.518667        0.408885               0.87590           1.432371   \n",
       "min        0.000000        0.000000               0.00000           0.000000   \n",
       "25%        2.000000        0.000000               0.00000           1.000000   \n",
       "50%        2.000000        0.000000               1.00000           2.000000   \n",
       "75%        2.000000        0.000000               2.00000           3.000000   \n",
       "max        4.000000       10.000000               8.00000          17.000000   \n",
       "\n",
       "       required_car_parking_space     lead_time  arrival_year  arrival_month  \\\n",
       "count                56926.000000  56926.000000  56926.000000   56926.000000   \n",
       "mean                     0.026332     93.713909   2018.248340       6.490215   \n",
       "std                      0.160123     92.408296      0.644619       3.027185   \n",
       "min                      0.000000      0.000000   2017.000000       1.000000   \n",
       "25%                      0.000000     21.000000   2018.000000       4.000000   \n",
       "50%                      0.000000     65.000000   2018.000000       6.000000   \n",
       "75%                      0.000000    142.000000   2019.000000       9.000000   \n",
       "max                      1.000000    521.000000   2019.000000      12.000000   \n",
       "\n",
       "       arrival_date  repeated_guest  no_of_previous_cancellations  \\\n",
       "count  56926.000000    56926.000000                  56926.000000   \n",
       "mean      15.635913        0.024664                      0.020939   \n",
       "std        8.718717        0.155099                      0.326142   \n",
       "min        1.000000        0.000000                      0.000000   \n",
       "25%        8.000000        0.000000                      0.000000   \n",
       "50%       16.000000        0.000000                      0.000000   \n",
       "75%       23.000000        0.000000                      0.000000   \n",
       "max       31.000000        1.000000                     13.000000   \n",
       "\n",
       "       no_of_previous_bookings_not_canceled  avg_price_per_room  \\\n",
       "count                          56926.000000        56926.000000   \n",
       "mean                               0.167902          109.610570   \n",
       "std                                1.943647           38.256075   \n",
       "min                                0.000000            0.000000   \n",
       "25%                                0.000000           85.000000   \n",
       "50%                                0.000000          105.000000   \n",
       "75%                                0.000000          129.700000   \n",
       "max                               72.000000          540.000000   \n",
       "\n",
       "       no_of_special_requests  \n",
       "count            56926.000000  \n",
       "mean                 0.666040  \n",
       "std                  0.814257  \n",
       "min                  0.000000  \n",
       "25%                  0.000000  \n",
       "50%                  0.000000  \n",
       "75%                  1.000000  \n",
       "max                  5.000000  "
      ]
     },
     "execution_count": 8,
     "metadata": {},
     "output_type": "execute_result"
    }
   ],
   "source": [
    "stardata.describe()"
   ]
  },
  {
   "cell_type": "markdown",
   "id": "99f05df7",
   "metadata": {},
   "source": [
    "#### Observations \n",
    "* The average number of adults is close to 2 people.\n",
    "* The average number of children is close to zero.\n",
    "* The average number of week nights are higher than weekend nights by 1+ day.\n",
    "* The lead time to booking the hotel is on average 93 days.\n",
    "* There are more people who have not cancelled than have previously."
   ]
  },
  {
   "cell_type": "code",
   "execution_count": 9,
   "id": "881f2565",
   "metadata": {},
   "outputs": [],
   "source": [
    "#lets convert the object types to categorical types \n",
    "stardata[\"type_of_meal_plan\"]=stardata[\"type_of_meal_plan\"].astype(\"category\")\n",
    "stardata[\"room_type_reserved\"]=stardata[\"room_type_reserved\"].astype(\"category\")\n",
    "stardata[\"market_segment_type\"]=stardata[\"market_segment_type\"].astype(\"category\")\n",
    "stardata[\"required_car_parking_space\"]=stardata[\"required_car_parking_space\"].astype(\"category\")\n",
    "stardata[\"repeated_guest\"]=stardata[\"repeated_guest\"].astype(\"category\")"
   ]
  },
  {
   "cell_type": "code",
   "execution_count": 10,
   "id": "b8d913ca",
   "metadata": {},
   "outputs": [
    {
     "name": "stdout",
     "output_type": "stream",
     "text": [
      "<class 'pandas.core.frame.DataFrame'>\n",
      "RangeIndex: 56926 entries, 0 to 56925\n",
      "Data columns (total 18 columns):\n",
      " #   Column                                Non-Null Count  Dtype   \n",
      "---  ------                                --------------  -----   \n",
      " 0   no_of_adults                          56926 non-null  int64   \n",
      " 1   no_of_children                        56926 non-null  int64   \n",
      " 2   no_of_weekend_nights                  56926 non-null  int64   \n",
      " 3   no_of_week_nights                     56926 non-null  int64   \n",
      " 4   type_of_meal_plan                     56926 non-null  category\n",
      " 5   required_car_parking_space            56926 non-null  category\n",
      " 6   room_type_reserved                    56926 non-null  category\n",
      " 7   lead_time                             56926 non-null  int64   \n",
      " 8   arrival_year                          56926 non-null  int64   \n",
      " 9   arrival_month                         56926 non-null  int64   \n",
      " 10  arrival_date                          56926 non-null  int64   \n",
      " 11  market_segment_type                   56926 non-null  category\n",
      " 12  repeated_guest                        56926 non-null  category\n",
      " 13  no_of_previous_cancellations          56926 non-null  int64   \n",
      " 14  no_of_previous_bookings_not_canceled  56926 non-null  int64   \n",
      " 15  avg_price_per_room                    56926 non-null  float64 \n",
      " 16  no_of_special_requests                56926 non-null  int64   \n",
      " 17  booking_status                        56926 non-null  object  \n",
      "dtypes: category(5), float64(1), int64(11), object(1)\n",
      "memory usage: 5.9+ MB\n"
     ]
    }
   ],
   "source": [
    "stardata.info()"
   ]
  },
  {
   "cell_type": "markdown",
   "id": "7f18f0cd",
   "metadata": {},
   "source": [
    "#### Observation\n",
    "* There are now 9 category types."
   ]
  },
  {
   "cell_type": "code",
   "execution_count": 11,
   "id": "16859ce3",
   "metadata": {},
   "outputs": [
    {
     "name": "stdout",
     "output_type": "stream",
     "text": [
      "2    41401\n",
      "1    11021\n",
      "3     4282\n",
      "0      193\n",
      "4       29\n",
      "Name: no_of_adults, dtype: int64\n",
      "0     52446\n",
      "1      2720\n",
      "2      1716\n",
      "3        41\n",
      "9         2\n",
      "10        1\n",
      "Name: no_of_children, dtype: int64\n",
      "0    25718\n",
      "1    15808\n",
      "2    14850\n",
      "3      242\n",
      "4      233\n",
      "5       40\n",
      "6       32\n",
      "8        2\n",
      "7        1\n",
      "Name: no_of_weekend_nights, dtype: int64\n",
      "2     17366\n",
      "1     14393\n",
      "3     12967\n",
      "4      4999\n",
      "0      3547\n",
      "5      2788\n",
      "6       324\n",
      "7       174\n",
      "8       126\n",
      "10      108\n",
      "9        52\n",
      "11       20\n",
      "12       18\n",
      "15       15\n",
      "14       10\n",
      "13        9\n",
      "16        7\n",
      "17        3\n",
      "Name: no_of_week_nights, dtype: int64\n",
      "Meal Plan 1     42330\n",
      "Not Selected    10072\n",
      "Meal Plan 2      4516\n",
      "Meal Plan 3         8\n",
      "Name: type_of_meal_plan, dtype: int64\n",
      "0    55427\n",
      "1     1499\n",
      "Name: required_car_parking_space, dtype: int64\n",
      "Room_Type 1    42807\n",
      "Room_Type 4    10413\n",
      "Room_Type 6     1581\n",
      "Room_Type 5      983\n",
      "Room_Type 2      823\n",
      "Room_Type 7      312\n",
      "Room_Type 3        7\n",
      "Name: room_type_reserved, dtype: int64\n",
      "2018    29761\n",
      "2019    20651\n",
      "2017     6514\n",
      "Name: arrival_year, dtype: int64\n",
      "8     6402\n",
      "6     6238\n",
      "7     5870\n",
      "5     5832\n",
      "4     5664\n",
      "10    5317\n",
      "3     4872\n",
      "9     4611\n",
      "2     3476\n",
      "12    3021\n",
      "11    2980\n",
      "1     2643\n",
      "Name: arrival_month, dtype: int64\n",
      "Online           39490\n",
      "Offline          13875\n",
      "Corporate         2796\n",
      "Complementary      536\n",
      "Aviation           229\n",
      "Name: market_segment_type, dtype: int64\n",
      "0    55522\n",
      "1     1404\n",
      "Name: repeated_guest, dtype: int64\n",
      "0     56411\n",
      "1       316\n",
      "2        66\n",
      "3        47\n",
      "11       25\n",
      "4        25\n",
      "6        16\n",
      "5        16\n",
      "13        4\n",
      "Name: no_of_previous_cancellations, dtype: int64\n",
      "0     55641\n",
      "1       357\n",
      "2       165\n",
      "3       118\n",
      "4        90\n",
      "5        85\n",
      "6        54\n",
      "7        47\n",
      "8        34\n",
      "9        33\n",
      "10       33\n",
      "11       28\n",
      "12       25\n",
      "14       20\n",
      "13       19\n",
      "15       16\n",
      "16       15\n",
      "17       12\n",
      "19       11\n",
      "18       10\n",
      "20        9\n",
      "21        9\n",
      "22        7\n",
      "24        6\n",
      "26        6\n",
      "25        6\n",
      "27        6\n",
      "28        5\n",
      "23        5\n",
      "29        4\n",
      "30        3\n",
      "32        2\n",
      "48        2\n",
      "58        2\n",
      "44        2\n",
      "31        2\n",
      "55        1\n",
      "45        1\n",
      "35        1\n",
      "56        1\n",
      "43        1\n",
      "57        1\n",
      "62        1\n",
      "46        1\n",
      "70        1\n",
      "54        1\n",
      "36        1\n",
      "42        1\n",
      "41        1\n",
      "64        1\n",
      "40        1\n",
      "37        1\n",
      "33        1\n",
      "51        1\n",
      "71        1\n",
      "65        1\n",
      "68        1\n",
      "50        1\n",
      "34        1\n",
      "69        1\n",
      "49        1\n",
      "47        1\n",
      "53        1\n",
      "67        1\n",
      "60        1\n",
      "52        1\n",
      "61        1\n",
      "66        1\n",
      "63        1\n",
      "59        1\n",
      "39        1\n",
      "38        1\n",
      "72        1\n",
      "Name: no_of_previous_bookings_not_canceled, dtype: int64\n",
      "0    29574\n",
      "1    18540\n",
      "2     7268\n",
      "3     1356\n",
      "4      169\n",
      "5       19\n",
      "Name: no_of_special_requests, dtype: int64\n",
      "Not_Canceled    35378\n",
      "Canceled        21548\n",
      "Name: booking_status, dtype: int64\n"
     ]
    }
   ],
   "source": [
    "print(stardata.no_of_adults.value_counts())\n",
    "print(stardata.no_of_children.value_counts())\n",
    "print(stardata.no_of_weekend_nights.value_counts())\n",
    "print(stardata.no_of_week_nights.value_counts())\n",
    "print(stardata.type_of_meal_plan.value_counts())\n",
    "print(stardata.required_car_parking_space.value_counts())\n",
    "print(stardata.room_type_reserved.value_counts())\n",
    "print(stardata.arrival_year.value_counts())\n",
    "print(stardata.arrival_month.value_counts())\n",
    "print(stardata.market_segment_type.value_counts())\n",
    "print(stardata.repeated_guest.value_counts())\n",
    "print(stardata.no_of_previous_cancellations.value_counts())\n",
    "print(stardata.no_of_previous_bookings_not_canceled.value_counts())\n",
    "print(stardata.no_of_special_requests.value_counts())\n",
    "print(stardata.booking_status.value_counts())"
   ]
  },
  {
   "cell_type": "markdown",
   "id": "19c776b9",
   "metadata": {},
   "source": [
    "#### Observations\n",
    "\n",
    "* Majority of the bookings are with 2 adults.\n",
    "* Majority of the bookings also do not include children.\n",
    "* The highest number of reservations are not on the weekend nights.\n",
    "* Majority of the people selected Meal plan 1 or none at all. Meanwhile, Meal Plan 3 only had 8 reservations.\n",
    "* A majority of people did not reserve a parking spot.\n",
    "* Room type 1 is the most popular.\n",
    "* Majority of reservations were made for 2018.\n",
    "* The most popular month for reservations is in August.\n",
    "* There is a large majority of people who are not repeated guests as well as a majority have not previously cancelled their reservation."
   ]
  },
  {
   "cell_type": "markdown",
   "id": "seasonal-calibration",
   "metadata": {
    "id": "seasonal-calibration"
   },
   "source": [
    "## Exploratory Data Analysis (EDA)\n",
    "\n",
    "- EDA is an important part of any project involving data.\n",
    "- It is important to investigate and understand the data better before building a model with it.\n",
    "- A few questions have been mentioned below which will help you approach the analysis in the right manner and generate insights from the data.\n",
    "- A thorough analysis of the data, in addition to the questions mentioned below, should be done."
   ]
  },
  {
   "cell_type": "markdown",
   "id": "classified-traveler",
   "metadata": {
    "id": "classified-traveler"
   },
   "source": [
    "**Questions**:\n",
    "1. What are the busiest months in the hotel?\n",
    "2. Which market segment do most of the guests come from?\n",
    "3. Hotel rates are dynamic and change according to demand and customer demographics. What are the differences in room prices in different market segments?\n",
    "4. What percentage of bookings are canceled? \n",
    "5. Repeating guests are the guests who stay in the hotel often and are important to brand equity. What percentage of repeating guests cancel?\n",
    "6. Many guests have special requirements when booking a hotel room. Do these requirements affect booking cancellation?"
   ]
  },
  {
   "cell_type": "code",
   "execution_count": 12,
   "id": "mechanical-interference",
   "metadata": {
    "id": "mechanical-interference"
   },
   "outputs": [],
   "source": [
    "# function to create labeled barplots\n",
    "\n",
    "\n",
    "def labeled_barplot(data, feature, perc=False, n=None):\n",
    "    \"\"\"\n",
    "    Barplot with percentage at the top\n",
    "\n",
    "    data: dataframe\n",
    "    feature: dataframe column\n",
    "    perc: whether to display percentages instead of count (default is False)\n",
    "    n: displays the top n category levels (default is None, i.e., display all levels)\n",
    "    \"\"\"\n",
    "\n",
    "    total = len(data[feature])  # length of the column\n",
    "    count = data[feature].nunique()\n",
    "    if n is None:\n",
    "        plt.figure(figsize=(count + 2, 6))\n",
    "    else:\n",
    "        plt.figure(figsize=(n + 2, 6))\n",
    "\n",
    "    plt.xticks(rotation=90, fontsize=15)\n",
    "    ax = sns.countplot(\n",
    "        data=data,\n",
    "        x=feature,\n",
    "        palette=\"Paired\",\n",
    "        order=data[feature].value_counts().index[:n].sort_values(),\n",
    "    )\n",
    "\n",
    "    for p in ax.patches:\n",
    "        if perc == True:\n",
    "            label = \"{:.1f}%\".format(\n",
    "                100 * p.get_height() / total\n",
    "            )  # percentage of each class of the category\n",
    "        else:\n",
    "            label = p.get_height()  # count of each level of the category\n",
    "\n",
    "        x = p.get_x() + p.get_width() / 2  # width of the plot\n",
    "        y = p.get_height()  # height of the plot\n",
    "\n",
    "        ax.annotate(\n",
    "            label,\n",
    "            (x, y),\n",
    "            ha=\"center\",\n",
    "            va=\"center\",\n",
    "            size=12,\n",
    "            xytext=(0, 5),\n",
    "            textcoords=\"offset points\",\n",
    "        )  # annotate the percentage\n",
    "\n",
    "    plt.show()  # show the plot"
   ]
  },
  {
   "cell_type": "code",
   "execution_count": 13,
   "id": "710d19ea",
   "metadata": {},
   "outputs": [
    {
     "data": {
      "image/png": "[encoded data removed]",
      "text/plain": [
       "<Figure size 1008x432 with 1 Axes>"
      ]
     },
     "metadata": {
      "needs_background": "light"
     },
     "output_type": "display_data"
    }
   ],
   "source": [
    "labeled_barplot(stardata, \"arrival_month\", perc=True)"
   ]
  },
  {
   "cell_type": "markdown",
   "id": "585e0fcc",
   "metadata": {},
   "source": [
    "#### Observation\n",
    "* The graph clearly displays that the summer months are the busiest with August being the busiest month and June trailing not far behind. "
   ]
  },
  {
   "cell_type": "code",
   "execution_count": 14,
   "id": "b3cb5e7e",
   "metadata": {},
   "outputs": [
    {
     "data": {
      "image/png": "[encoded data removed]",
      "text/plain": [
       "<Figure size 504x432 with 1 Axes>"
      ]
     },
     "metadata": {
      "needs_background": "light"
     },
     "output_type": "display_data"
    }
   ],
   "source": [
    "labeled_barplot(stardata, \"market_segment_type\", perc=True)"
   ]
  },
  {
   "cell_type": "markdown",
   "id": "f766e946",
   "metadata": {},
   "source": [
    "#### Observation\n",
    "\n",
    "* The majority of the reservations were made online."
   ]
  },
  {
   "cell_type": "code",
   "execution_count": 15,
   "id": "578da4cf",
   "metadata": {},
   "outputs": [
    {
     "data": {
      "text/plain": [
       "market_segment_type\n",
       "Aviation         102.810830\n",
       "Complementary      2.698563\n",
       "Corporate         84.142160\n",
       "Offline           93.576602\n",
       "Online           118.537969\n",
       "Name: avg_price_per_room, dtype: float64"
      ]
     },
     "execution_count": 15,
     "metadata": {},
     "output_type": "execute_result"
    }
   ],
   "source": [
    "stardata.groupby(\"market_segment_type\")[\"avg_price_per_room\"].mean()"
   ]
  },
  {
   "cell_type": "code",
   "execution_count": 16,
   "id": "fb5303a5",
   "metadata": {},
   "outputs": [
    {
     "data": {
      "image/png": "[encoded data removed]",
      "text/plain": [
       "<Figure size 432x432 with 3 Axes>"
      ]
     },
     "metadata": {
      "needs_background": "light"
     },
     "output_type": "display_data"
    }
   ],
   "source": [
    "#lets look at the market segment type and average price per room through a visual graph \n",
    "sns.jointplot(stardata['avg_price_per_room'], stardata['market_segment_type']);"
   ]
  },
  {
   "cell_type": "code",
   "execution_count": 17,
   "id": "0cc0f654",
   "metadata": {},
   "outputs": [],
   "source": [
    "def histogram_boxplot(feature, figsize=(15,10), bins = None):\n",
    "    \"\"\" Boxplot and histogram combined\n",
    "    feature: 1-d feature array\n",
    "    figsize: size of fig (default (9,8))\n",
    "    bins: number of bins (default None / auto)\n",
    "    \"\"\"\n",
    "    f2, (ax_box2, ax_hist2) = plt.subplots(nrows = 2, # Number of rows of the subplot grid= 2\n",
    "                                           sharex = True, # x-axis will be shared among all subplots\n",
    "                                           gridspec_kw = {\"height_ratios\": (.25, .75)}, \n",
    "                                           figsize = figsize \n",
    "                                           ) # creating the 2 subplots\n",
    "    sns.boxplot(feature, ax=ax_box2, showmeans=True, color='yellow') # boxplot will be created and a triangle will indicate the mean value of the column\n",
    "    sns.distplot(feature, kde=F, ax=ax_hist2, bins=bins) if bins else sns.distplot(feature, kde=False, ax=ax_hist2) # For histogram\n",
    "    ax_hist2.axvline(np.mean(feature), color='g', linestyle='-') # Add mean to the histogram\n",
    "    ax_hist2.axvline(np.median(feature), color='black', linestyle='--') # Add median to the histogram"
   ]
  },
  {
   "cell_type": "code",
   "execution_count": 18,
   "id": "4dd60b92",
   "metadata": {},
   "outputs": [
    {
     "data": {
      "image/png": "[encoded data removed]",
      "text/plain": [
       "<Figure size 1080x720 with 2 Axes>"
      ]
     },
     "metadata": {
      "needs_background": "light"
     },
     "output_type": "display_data"
    }
   ],
   "source": [
    "histogram_boxplot(stardata.no_of_adults);"
   ]
  },
  {
   "cell_type": "code",
   "execution_count": 19,
   "id": "0e6a0538",
   "metadata": {},
   "outputs": [
    {
     "data": {
      "image/png": "[encoded data removed]",
      "text/plain": [
       "<Figure size 1080x720 with 2 Axes>"
      ]
     },
     "metadata": {
      "needs_background": "light"
     },
     "output_type": "display_data"
    }
   ],
   "source": [
    "histogram_boxplot(stardata.no_of_children);"
   ]
  },
  {
   "cell_type": "markdown",
   "id": "b6e33bb9",
   "metadata": {},
   "source": [
    "#### Observation\n",
    "* Using the graph above, it clearly shows that the the average and median number of children are around zero. However, there are outliers going up all the way to 10 children."
   ]
  },
  {
   "cell_type": "code",
   "execution_count": 20,
   "id": "d8a314a9",
   "metadata": {},
   "outputs": [
    {
     "data": {
      "image/png": "[encoded data removed]",
      "text/plain": [
       "<Figure size 1080x720 with 2 Axes>"
      ]
     },
     "metadata": {
      "needs_background": "light"
     },
     "output_type": "display_data"
    }
   ],
   "source": [
    "histogram_boxplot(stardata.no_of_weekend_nights);"
   ]
  },
  {
   "cell_type": "markdown",
   "id": "2db8058b",
   "metadata": {},
   "source": [
    "#### Observation\n",
    "* Using the graph above, we can see that most of the weekend night bookings fall between 0 and 2 nights with an average of 1 night per weekend. However, there are outliers making this a right skewed graph."
   ]
  },
  {
   "cell_type": "code",
   "execution_count": 21,
   "id": "3e196b4b",
   "metadata": {},
   "outputs": [
    {
     "data": {
      "image/png": "[encoded data removed]",
      "text/plain": [
       "<Figure size 1080x720 with 2 Axes>"
      ]
     },
     "metadata": {
      "needs_background": "light"
     },
     "output_type": "display_data"
    }
   ],
   "source": [
    "histogram_boxplot(stardata.no_of_week_nights);"
   ]
  },
  {
   "cell_type": "markdown",
   "id": "31d7be36",
   "metadata": {},
   "source": [
    "#### Observation \n",
    "* Using the graph above, we see that the majority of the week nights are booked around 2.5 days. However, there are several outliers making this a right skewed graph."
   ]
  },
  {
   "cell_type": "code",
   "execution_count": 22,
   "id": "b3ab187c",
   "metadata": {},
   "outputs": [
    {
     "data": {
      "image/png": "[encoded data removed]",
      "text/plain": [
       "<Figure size 1080x720 with 2 Axes>"
      ]
     },
     "metadata": {
      "needs_background": "light"
     },
     "output_type": "display_data"
    }
   ],
   "source": [
    "histogram_boxplot(stardata.lead_time);"
   ]
  },
  {
   "cell_type": "markdown",
   "id": "b445b5cb",
   "metadata": {},
   "source": [
    "#### Observation\n",
    "* Using the graph above, we see that the average number of days a booking is made before the reservation is around 90 days or about 4 months. There are several outliers on the right which indicate that people are booking over a year in advance, therefore this is a right skewed graph."
   ]
  },
  {
   "cell_type": "code",
   "execution_count": 23,
   "id": "7e7787e4",
   "metadata": {},
   "outputs": [
    {
     "data": {
      "image/png": "[encoded data removed]",
      "text/plain": [
       "<Figure size 1080x720 with 2 Axes>"
      ]
     },
     "metadata": {
      "needs_background": "light"
     },
     "output_type": "display_data"
    }
   ],
   "source": [
    "histogram_boxplot(stardata.no_of_previous_cancellations);"
   ]
  },
  {
   "cell_type": "markdown",
   "id": "781dabc6",
   "metadata": {},
   "source": [
    "#### Observation \n",
    "* Using the graph above, we see that most people (on average) have not cancelled their reservation previously. However, there are some outliers that go as high as 12 prior cancellations."
   ]
  },
  {
   "cell_type": "code",
   "execution_count": 24,
   "id": "14be5d62",
   "metadata": {},
   "outputs": [
    {
     "data": {
      "image/png": "[encoded data removed]",
      "text/plain": [
       "<Figure size 1080x720 with 2 Axes>"
      ]
     },
     "metadata": {
      "needs_background": "light"
     },
     "output_type": "display_data"
    }
   ],
   "source": [
    "histogram_boxplot(stardata.no_of_previous_bookings_not_canceled);"
   ]
  },
  {
   "cell_type": "markdown",
   "id": "c1562722",
   "metadata": {},
   "source": [
    "#### Observations \n",
    "* Using the graph above, we see that there is (on average) zero previous bookings not cancelled, but we do have multiple outliers going above 70 of previous bookings not canceled."
   ]
  },
  {
   "cell_type": "code",
   "execution_count": 25,
   "id": "4a27cc40",
   "metadata": {},
   "outputs": [
    {
     "data": {
      "image/png": "[encoded data removed]",
      "text/plain": [
       "<Figure size 1080x720 with 2 Axes>"
      ]
     },
     "metadata": {
      "needs_background": "light"
     },
     "output_type": "display_data"
    }
   ],
   "source": [
    "histogram_boxplot(stardata.avg_price_per_room);"
   ]
  },
  {
   "cell_type": "markdown",
   "id": "bca58c2c",
   "metadata": {},
   "source": [
    "#### Observation\n",
    "* Using the graph above, we can conclude that the average and median are close at around $100 per room. However, there are outliers on both sides."
   ]
  },
  {
   "cell_type": "code",
   "execution_count": 26,
   "id": "cd03f48d",
   "metadata": {},
   "outputs": [
    {
     "data": {
      "image/png": "[encoded data removed]",
      "text/plain": [
       "<Figure size 1080x720 with 2 Axes>"
      ]
     },
     "metadata": {
      "needs_background": "light"
     },
     "output_type": "display_data"
    }
   ],
   "source": [
    "histogram_boxplot(stardata.no_of_special_requests);"
   ]
  },
  {
   "cell_type": "markdown",
   "id": "dde6d197",
   "metadata": {},
   "source": [
    "#### Observations\n",
    "\n",
    "* Using the graph above, we can conclude that most of the data lies between 0 and 1 in terms of number of special requests. Furthermore, there are outliers to the right with some people making multiple special requests."
   ]
  },
  {
   "cell_type": "code",
   "execution_count": 27,
   "id": "cdefdd87",
   "metadata": {},
   "outputs": [],
   "source": [
    "#lets compare the market segement type and average price per room through a visual graph\n",
    "def stacked_barplot(data, predictor, target):\n",
    "    \"\"\"\n",
    "    Print the category counts and plot a stacked bar chart\n",
    "\n",
    "    data: dataframe\n",
    "    predictor: independent variable\n",
    "    target: target variable\n",
    "    \"\"\"\n",
    "    count = data[predictor].nunique()\n",
    "    sorter = data[target].value_counts().index[-1]\n",
    "    tab1 = pd.crosstab(data[predictor], data[target], margins=True).sort_values(\n",
    "        by=sorter, ascending=False\n",
    "    )\n",
    "    print(tab1)\n",
    "    print(\"-\" * 120)\n",
    "    tab = pd.crosstab(data[predictor], data[target], normalize=\"index\").sort_values(\n",
    "        by=sorter, ascending=False\n",
    "    )\n",
    "    tab.plot(kind=\"bar\", stacked=True, figsize=(count + 5, 6))\n",
    "    plt.legend(\n",
    "        loc=\"lower left\", frameon=False,\n",
    "    )\n",
    "    plt.legend(loc=\"upper left\", bbox_to_anchor=(1, 1))\n",
    "    plt.show()"
   ]
  },
  {
   "cell_type": "code",
   "execution_count": 28,
   "id": "d30ab507",
   "metadata": {},
   "outputs": [
    {
     "data": {
      "image/png": "[encoded data removed]",
      "text/plain": [
       "<Figure size 288x432 with 1 Axes>"
      ]
     },
     "metadata": {
      "needs_background": "light"
     },
     "output_type": "display_data"
    }
   ],
   "source": [
    "labeled_barplot(stardata, \"booking_status\", perc=True)"
   ]
  },
  {
   "cell_type": "markdown",
   "id": "aa9ef6bd",
   "metadata": {},
   "source": [
    "#### Observation\n",
    "* There are more bookings that are not canceled compared to those that are canceled, the detailed percenatge ratio is shown above."
   ]
  },
  {
   "cell_type": "code",
   "execution_count": 29,
   "id": "4a9a5d86",
   "metadata": {},
   "outputs": [
    {
     "data": {
      "image/png": "[encoded data removed]",
      "text/plain": [
       "<Figure size 1584x432 with 1 Axes>"
      ]
     },
     "metadata": {
      "needs_background": "light"
     },
     "output_type": "display_data"
    }
   ],
   "source": [
    "labeled_barplot(stardata, \"no_of_previous_cancellations\", n=20, perc=True)"
   ]
  },
  {
   "cell_type": "code",
   "execution_count": 30,
   "id": "c9930b76",
   "metadata": {},
   "outputs": [
    {
     "name": "stdout",
     "output_type": "stream",
     "text": [
      "0     56411\n",
      "1       316\n",
      "2        66\n",
      "3        47\n",
      "11       25\n",
      "4        25\n",
      "6        16\n",
      "5        16\n",
      "13        4\n",
      "Name: no_of_previous_cancellations, dtype: int64\n"
     ]
    }
   ],
   "source": [
    "#let's compare no_of_previous_cancellations with repeated_guest\n",
    "print(stardata.no_of_previous_cancellations.value_counts())"
   ]
  },
  {
   "cell_type": "code",
   "execution_count": 31,
   "id": "ca7c21f6",
   "metadata": {},
   "outputs": [
    {
     "data": {
      "text/plain": [
       "99.0953167269789"
      ]
     },
     "execution_count": 31,
     "metadata": {},
     "output_type": "execute_result"
    }
   ],
   "source": [
    "(len(stardata[stardata[\"no_of_previous_cancellations\"] == 0][\"repeated_guest\"]) / len(stardata)) * 100"
   ]
  },
  {
   "cell_type": "markdown",
   "id": "dc694ee5",
   "metadata": {},
   "source": [
    "#### Observation \n",
    "* 99% of repeated guests have not cancelled their reservation."
   ]
  },
  {
   "cell_type": "code",
   "execution_count": 32,
   "id": "6037bfb7",
   "metadata": {},
   "outputs": [
    {
     "data": {
      "image/png": "[encoded data removed]",
      "text/plain": [
       "<Figure size 576x432 with 1 Axes>"
      ]
     },
     "metadata": {
      "needs_background": "light"
     },
     "output_type": "display_data"
    }
   ],
   "source": [
    "labeled_barplot(stardata, \"no_of_special_requests\", perc=True)"
   ]
  },
  {
   "cell_type": "markdown",
   "id": "0adaaa5b",
   "metadata": {},
   "source": [
    "#### Observation\n",
    "* Nearly half of all bookings require a special request (48%)."
   ]
  },
  {
   "cell_type": "code",
   "execution_count": 33,
   "id": "6c533c07",
   "metadata": {},
   "outputs": [],
   "source": [
    "### Function to plot stacked bar charts for categorical columns\n",
    "def stacked_plot(x):\n",
    "    sns.set()\n",
    "    ## crosstab\n",
    "    tab1 = pd.crosstab(x, data[\"salary\"], margins=True).sort_values(\n",
    "        by=\" >50K\", ascending=False\n",
    "    )\n",
    "    print(tab1)\n",
    "    print(\"-\" * 120)\n",
    "    ## visualising the cross tab\n",
    "    tab = pd.crosstab(x, data[\"salary\"], normalize=\"index\").sort_values(\n",
    "        by=\" >50K\", ascending=False\n",
    "    )\n",
    "    tab.plot(kind=\"bar\", stacked=True, figsize=(17, 7))\n",
    "    plt.legend(\n",
    "        loc=\"lower left\", frameon=False,\n",
    "    )\n",
    "    plt.legend(loc=\"upper left\", bbox_to_anchor=(1, 1))\n",
    "    plt.show()"
   ]
  },
  {
   "cell_type": "code",
   "execution_count": 34,
   "id": "c3594e56",
   "metadata": {},
   "outputs": [],
   "source": [
    "def stacked_barplot(data, predictor, target):\n",
    "    \"\"\"\n",
    "    Print the category counts and plot a stacked bar chart\n",
    "\n",
    "    data: dataframe\n",
    "    predictor: independent variable\n",
    "    target: target variable\n",
    "    \"\"\"\n",
    "    count = data[predictor].nunique()\n",
    "    sorter = data[target].value_counts().index[-1]\n",
    "    tab1 = pd.crosstab(data[predictor], data[target], margins=True).sort_values(\n",
    "        by=sorter, ascending=False\n",
    "    )\n",
    "    print(tab1)\n",
    "    print(\"-\" * 120)\n",
    "    tab = pd.crosstab(data[predictor], data[target], normalize=\"index\").sort_values(\n",
    "        by=sorter, ascending=False\n",
    "    )\n",
    "    tab.plot(kind=\"bar\", stacked=True, figsize=(count + 5, 5))\n",
    "    plt.legend(\n",
    "        loc=\"lower left\", frameon=False,\n",
    "    )\n",
    "    plt.legend(loc=\"upper left\", bbox_to_anchor=(1, 1))\n",
    "    plt.show()"
   ]
  },
  {
   "cell_type": "code",
   "execution_count": 35,
   "id": "67ff6d98",
   "metadata": {},
   "outputs": [
    {
     "name": "stdout",
     "output_type": "stream",
     "text": [
      "no_of_special_requests      0      1     2     3    4   5    All\n",
      "booking_status                                                  \n",
      "Not_Canceled            15390  12837  5607  1356  169  19  35378\n",
      "All                     29574  18540  7268  1356  169  19  56926\n",
      "Canceled                14184   5703  1661     0    0   0  21548\n",
      "------------------------------------------------------------------------------------------------------------------------\n"
     ]
    },
    {
     "data": {
      "image/png": "[encoded data removed]",
      "text/plain": [
       "<Figure size 504x360 with 1 Axes>"
      ]
     },
     "metadata": {
      "needs_background": "light"
     },
     "output_type": "display_data"
    }
   ],
   "source": [
    "stacked_barplot(stardata, \"booking_status\", \"no_of_special_requests\")"
   ]
  },
  {
   "cell_type": "code",
   "execution_count": 36,
   "id": "d2d45d00",
   "metadata": {},
   "outputs": [
    {
     "name": "stdout",
     "output_type": "stream",
     "text": [
      "0.3992626328345261\n"
     ]
    }
   ],
   "source": [
    "a = 5703+1661\n",
    "b = 12837+5607\n",
    "c = a/b\n",
    "print(c)"
   ]
  },
  {
   "cell_type": "markdown",
   "id": "57e458ce",
   "metadata": {},
   "source": [
    "#### Observation \n",
    "* There are 3 -5 special requests, the booking is not canceled. However, when there are 1 - 2 requests, bookings are canceled at 39%. When there are 0 requests forspeial assistance, nearly half or 48% are still canceled."
   ]
  },
  {
   "cell_type": "markdown",
   "id": "alleged-spirituality",
   "metadata": {
    "id": "alleged-spirituality"
   },
   "source": [
    "## Data Preprocessing\n",
    "\n",
    "- Missing value treatment (if needed)\n",
    "- Feature engineering (if needed)\n",
    "- Outlier detection and treatment (if needed)\n",
    "- Preparing data for modeling \n",
    "- Any other preprocessing steps (if needed)"
   ]
  },
  {
   "cell_type": "code",
   "execution_count": 37,
   "id": "increasing-louisiana",
   "metadata": {
    "id": "increasing-louisiana"
   },
   "outputs": [
    {
     "data": {
      "text/html": [
       "<div>\n",
       "<style scoped>\n",
       "    .dataframe tbody tr th:only-of-type {\n",
       "        vertical-align: middle;\n",
       "    }\n",
       "\n",
       "    .dataframe tbody tr th {\n",
       "        vertical-align: top;\n",
       "    }\n",
       "\n",
       "    .dataframe thead th {\n",
       "        text-align: right;\n",
       "    }\n",
       "</style>\n",
       "<table border=\"1\" class=\"dataframe\">\n",
       "  <thead>\n",
       "    <tr style=\"text-align: right;\">\n",
       "      <th></th>\n",
       "      <th>no_of_adults</th>\n",
       "      <th>no_of_children</th>\n",
       "      <th>no_of_weekend_nights</th>\n",
       "      <th>no_of_week_nights</th>\n",
       "      <th>type_of_meal_plan</th>\n",
       "      <th>required_car_parking_space</th>\n",
       "      <th>room_type_reserved</th>\n",
       "      <th>lead_time</th>\n",
       "      <th>arrival_year</th>\n",
       "      <th>arrival_month</th>\n",
       "      <th>arrival_date</th>\n",
       "      <th>market_segment_type</th>\n",
       "      <th>repeated_guest</th>\n",
       "      <th>no_of_previous_cancellations</th>\n",
       "      <th>no_of_previous_bookings_not_canceled</th>\n",
       "      <th>avg_price_per_room</th>\n",
       "      <th>no_of_special_requests</th>\n",
       "      <th>booking_status</th>\n",
       "      <th>price_range</th>\n",
       "    </tr>\n",
       "  </thead>\n",
       "  <tbody>\n",
       "    <tr>\n",
       "      <th>0</th>\n",
       "      <td>2</td>\n",
       "      <td>0</td>\n",
       "      <td>1</td>\n",
       "      <td>2</td>\n",
       "      <td>Meal Plan 1</td>\n",
       "      <td>0</td>\n",
       "      <td>Room_Type 1</td>\n",
       "      <td>224</td>\n",
       "      <td>2017</td>\n",
       "      <td>10</td>\n",
       "      <td>2</td>\n",
       "      <td>Offline</td>\n",
       "      <td>0</td>\n",
       "      <td>0</td>\n",
       "      <td>0</td>\n",
       "      <td>65.00</td>\n",
       "      <td>0</td>\n",
       "      <td>Not_Canceled</td>\n",
       "      <td>low-cost</td>\n",
       "    </tr>\n",
       "    <tr>\n",
       "      <th>1</th>\n",
       "      <td>2</td>\n",
       "      <td>0</td>\n",
       "      <td>2</td>\n",
       "      <td>3</td>\n",
       "      <td>Not Selected</td>\n",
       "      <td>0</td>\n",
       "      <td>Room_Type 1</td>\n",
       "      <td>5</td>\n",
       "      <td>2018</td>\n",
       "      <td>11</td>\n",
       "      <td>6</td>\n",
       "      <td>Online</td>\n",
       "      <td>0</td>\n",
       "      <td>0</td>\n",
       "      <td>0</td>\n",
       "      <td>106.68</td>\n",
       "      <td>1</td>\n",
       "      <td>Not_Canceled</td>\n",
       "      <td>medium-cost</td>\n",
       "    </tr>\n",
       "    <tr>\n",
       "      <th>2</th>\n",
       "      <td>1</td>\n",
       "      <td>0</td>\n",
       "      <td>2</td>\n",
       "      <td>1</td>\n",
       "      <td>Meal Plan 1</td>\n",
       "      <td>0</td>\n",
       "      <td>Room_Type 1</td>\n",
       "      <td>1</td>\n",
       "      <td>2018</td>\n",
       "      <td>2</td>\n",
       "      <td>28</td>\n",
       "      <td>Online</td>\n",
       "      <td>0</td>\n",
       "      <td>0</td>\n",
       "      <td>0</td>\n",
       "      <td>60.00</td>\n",
       "      <td>0</td>\n",
       "      <td>Canceled</td>\n",
       "      <td>low-cost</td>\n",
       "    </tr>\n",
       "    <tr>\n",
       "      <th>3</th>\n",
       "      <td>2</td>\n",
       "      <td>0</td>\n",
       "      <td>0</td>\n",
       "      <td>2</td>\n",
       "      <td>Meal Plan 1</td>\n",
       "      <td>0</td>\n",
       "      <td>Room_Type 1</td>\n",
       "      <td>211</td>\n",
       "      <td>2018</td>\n",
       "      <td>5</td>\n",
       "      <td>20</td>\n",
       "      <td>Online</td>\n",
       "      <td>0</td>\n",
       "      <td>0</td>\n",
       "      <td>0</td>\n",
       "      <td>100.00</td>\n",
       "      <td>0</td>\n",
       "      <td>Canceled</td>\n",
       "      <td>medium-cost</td>\n",
       "    </tr>\n",
       "    <tr>\n",
       "      <th>4</th>\n",
       "      <td>3</td>\n",
       "      <td>0</td>\n",
       "      <td>0</td>\n",
       "      <td>3</td>\n",
       "      <td>Not Selected</td>\n",
       "      <td>0</td>\n",
       "      <td>Room_Type 1</td>\n",
       "      <td>277</td>\n",
       "      <td>2019</td>\n",
       "      <td>7</td>\n",
       "      <td>13</td>\n",
       "      <td>Online</td>\n",
       "      <td>0</td>\n",
       "      <td>0</td>\n",
       "      <td>0</td>\n",
       "      <td>89.10</td>\n",
       "      <td>2</td>\n",
       "      <td>Canceled</td>\n",
       "      <td>low-cost</td>\n",
       "    </tr>\n",
       "  </tbody>\n",
       "</table>\n",
       "</div>"
      ],
      "text/plain": [
       "   no_of_adults  no_of_children  no_of_weekend_nights  no_of_week_nights  \\\n",
       "0             2               0                     1                  2   \n",
       "1             2               0                     2                  3   \n",
       "2             1               0                     2                  1   \n",
       "3             2               0                     0                  2   \n",
       "4             3               0                     0                  3   \n",
       "\n",
       "  type_of_meal_plan required_car_parking_space room_type_reserved  lead_time  \\\n",
       "0       Meal Plan 1                          0        Room_Type 1        224   \n",
       "1      Not Selected                          0        Room_Type 1          5   \n",
       "2       Meal Plan 1                          0        Room_Type 1          1   \n",
       "3       Meal Plan 1                          0        Room_Type 1        211   \n",
       "4      Not Selected                          0        Room_Type 1        277   \n",
       "\n",
       "   arrival_year  arrival_month  arrival_date market_segment_type  \\\n",
       "0          2017             10             2             Offline   \n",
       "1          2018             11             6              Online   \n",
       "2          2018              2            28              Online   \n",
       "3          2018              5            20              Online   \n",
       "4          2019              7            13              Online   \n",
       "\n",
       "  repeated_guest  no_of_previous_cancellations  \\\n",
       "0              0                             0   \n",
       "1              0                             0   \n",
       "2              0                             0   \n",
       "3              0                             0   \n",
       "4              0                             0   \n",
       "\n",
       "   no_of_previous_bookings_not_canceled  avg_price_per_room  \\\n",
       "0                                     0               65.00   \n",
       "1                                     0              106.68   \n",
       "2                                     0               60.00   \n",
       "3                                     0              100.00   \n",
       "4                                     0               89.10   \n",
       "\n",
       "   no_of_special_requests booking_status  price_range  \n",
       "0                       0   Not_Canceled     low-cost  \n",
       "1                       1   Not_Canceled  medium-cost  \n",
       "2                       0       Canceled     low-cost  \n",
       "3                       0       Canceled  medium-cost  \n",
       "4                       2       Canceled     low-cost  "
      ]
     },
     "execution_count": 37,
     "metadata": {},
     "output_type": "execute_result"
    }
   ],
   "source": [
    "# Binning reservations by quarter \n",
    "\n",
    "conditions = [\n",
    "(stardata[\"avg_price_per_room\"]<100),\n",
    "(stardata[\"avg_price_per_room\"].between(100, 200, inclusive=True)),\n",
    "(stardata[\"avg_price_per_room\"]>200)\n",
    "]\n",
    "\n",
    "categories = ['low-cost','medium-cost','high-cost']\n",
    "\n",
    "stardata['price_range']=np.select(conditions, categories)\n",
    "stardata.head()"
   ]
  },
  {
   "cell_type": "code",
   "execution_count": 38,
   "id": "ca057937",
   "metadata": {},
   "outputs": [
    {
     "name": "stdout",
     "output_type": "stream",
     "text": [
      "<class 'pandas.core.frame.DataFrame'>\n",
      "RangeIndex: 56926 entries, 0 to 56925\n",
      "Data columns (total 19 columns):\n",
      " #   Column                                Non-Null Count  Dtype   \n",
      "---  ------                                --------------  -----   \n",
      " 0   no_of_adults                          56926 non-null  int64   \n",
      " 1   no_of_children                        56926 non-null  int64   \n",
      " 2   no_of_weekend_nights                  56926 non-null  int64   \n",
      " 3   no_of_week_nights                     56926 non-null  int64   \n",
      " 4   type_of_meal_plan                     56926 non-null  category\n",
      " 5   required_car_parking_space            56926 non-null  category\n",
      " 6   room_type_reserved                    56926 non-null  category\n",
      " 7   lead_time                             56926 non-null  int64   \n",
      " 8   arrival_year                          56926 non-null  int64   \n",
      " 9   arrival_month                         56926 non-null  int64   \n",
      " 10  arrival_date                          56926 non-null  int64   \n",
      " 11  market_segment_type                   56926 non-null  category\n",
      " 12  repeated_guest                        56926 non-null  category\n",
      " 13  no_of_previous_cancellations          56926 non-null  int64   \n",
      " 14  no_of_previous_bookings_not_canceled  56926 non-null  int64   \n",
      " 15  avg_price_per_room                    56926 non-null  float64 \n",
      " 16  no_of_special_requests                56926 non-null  int64   \n",
      " 17  booking_status                        56926 non-null  object  \n",
      " 18  price_range                           56926 non-null  object  \n",
      "dtypes: category(5), float64(1), int64(11), object(2)\n",
      "memory usage: 6.4+ MB\n"
     ]
    }
   ],
   "source": [
    "stardata.info()"
   ]
  },
  {
   "cell_type": "code",
   "execution_count": 39,
   "id": "b245460b",
   "metadata": {},
   "outputs": [
    {
     "data": {
      "image/png": "[encoded data removed]",
      "text/plain": [
       "<Figure size 1440x2160 with 12 Axes>"
      ]
     },
     "metadata": {
      "needs_background": "light"
     },
     "output_type": "display_data"
    }
   ],
   "source": [
    "numerical_col = stardata.select_dtypes(include=np.number).columns.tolist()\n",
    "plt.figure(figsize=(20, 30))\n",
    "\n",
    "for i, variable in enumerate(numerical_col):\n",
    "    plt.subplot(5, 4, i + 1)\n",
    "    plt.boxplot(stardata[variable], whis=1.5)\n",
    "    plt.tight_layout()\n",
    "    plt.title(variable)\n",
    "\n",
    "plt.show()"
   ]
  },
  {
   "cell_type": "code",
   "execution_count": 40,
   "id": "4febc1d1",
   "metadata": {},
   "outputs": [],
   "source": [
    "stardata.drop([\"required_car_parking_space\"], axis=1, inplace=True)"
   ]
  },
  {
   "cell_type": "code",
   "execution_count": 41,
   "id": "1687da10",
   "metadata": {},
   "outputs": [
    {
     "data": {
      "text/html": [
       "<div>\n",
       "<style scoped>\n",
       "    .dataframe tbody tr th:only-of-type {\n",
       "        vertical-align: middle;\n",
       "    }\n",
       "\n",
       "    .dataframe tbody tr th {\n",
       "        vertical-align: top;\n",
       "    }\n",
       "\n",
       "    .dataframe thead th {\n",
       "        text-align: right;\n",
       "    }\n",
       "</style>\n",
       "<table border=\"1\" class=\"dataframe\">\n",
       "  <thead>\n",
       "    <tr style=\"text-align: right;\">\n",
       "      <th></th>\n",
       "      <th>no_of_adults</th>\n",
       "      <th>no_of_children</th>\n",
       "      <th>no_of_weekend_nights</th>\n",
       "      <th>no_of_week_nights</th>\n",
       "      <th>type_of_meal_plan</th>\n",
       "      <th>room_type_reserved</th>\n",
       "      <th>lead_time</th>\n",
       "      <th>arrival_year</th>\n",
       "      <th>arrival_month</th>\n",
       "      <th>arrival_date</th>\n",
       "      <th>market_segment_type</th>\n",
       "      <th>repeated_guest</th>\n",
       "      <th>no_of_previous_cancellations</th>\n",
       "      <th>no_of_previous_bookings_not_canceled</th>\n",
       "      <th>avg_price_per_room</th>\n",
       "      <th>no_of_special_requests</th>\n",
       "      <th>booking_status</th>\n",
       "      <th>price_range</th>\n",
       "    </tr>\n",
       "  </thead>\n",
       "  <tbody>\n",
       "    <tr>\n",
       "      <th>0</th>\n",
       "      <td>2</td>\n",
       "      <td>0</td>\n",
       "      <td>1</td>\n",
       "      <td>2</td>\n",
       "      <td>Meal Plan 1</td>\n",
       "      <td>Room_Type 1</td>\n",
       "      <td>224</td>\n",
       "      <td>2017</td>\n",
       "      <td>10</td>\n",
       "      <td>2</td>\n",
       "      <td>Offline</td>\n",
       "      <td>0</td>\n",
       "      <td>0</td>\n",
       "      <td>0</td>\n",
       "      <td>65.00</td>\n",
       "      <td>0</td>\n",
       "      <td>Not_Canceled</td>\n",
       "      <td>low-cost</td>\n",
       "    </tr>\n",
       "    <tr>\n",
       "      <th>1</th>\n",
       "      <td>2</td>\n",
       "      <td>0</td>\n",
       "      <td>2</td>\n",
       "      <td>3</td>\n",
       "      <td>Not Selected</td>\n",
       "      <td>Room_Type 1</td>\n",
       "      <td>5</td>\n",
       "      <td>2018</td>\n",
       "      <td>11</td>\n",
       "      <td>6</td>\n",
       "      <td>Online</td>\n",
       "      <td>0</td>\n",
       "      <td>0</td>\n",
       "      <td>0</td>\n",
       "      <td>106.68</td>\n",
       "      <td>1</td>\n",
       "      <td>Not_Canceled</td>\n",
       "      <td>medium-cost</td>\n",
       "    </tr>\n",
       "    <tr>\n",
       "      <th>2</th>\n",
       "      <td>1</td>\n",
       "      <td>0</td>\n",
       "      <td>2</td>\n",
       "      <td>1</td>\n",
       "      <td>Meal Plan 1</td>\n",
       "      <td>Room_Type 1</td>\n",
       "      <td>1</td>\n",
       "      <td>2018</td>\n",
       "      <td>2</td>\n",
       "      <td>28</td>\n",
       "      <td>Online</td>\n",
       "      <td>0</td>\n",
       "      <td>0</td>\n",
       "      <td>0</td>\n",
       "      <td>60.00</td>\n",
       "      <td>0</td>\n",
       "      <td>Canceled</td>\n",
       "      <td>low-cost</td>\n",
       "    </tr>\n",
       "    <tr>\n",
       "      <th>3</th>\n",
       "      <td>2</td>\n",
       "      <td>0</td>\n",
       "      <td>0</td>\n",
       "      <td>2</td>\n",
       "      <td>Meal Plan 1</td>\n",
       "      <td>Room_Type 1</td>\n",
       "      <td>211</td>\n",
       "      <td>2018</td>\n",
       "      <td>5</td>\n",
       "      <td>20</td>\n",
       "      <td>Online</td>\n",
       "      <td>0</td>\n",
       "      <td>0</td>\n",
       "      <td>0</td>\n",
       "      <td>100.00</td>\n",
       "      <td>0</td>\n",
       "      <td>Canceled</td>\n",
       "      <td>medium-cost</td>\n",
       "    </tr>\n",
       "    <tr>\n",
       "      <th>4</th>\n",
       "      <td>3</td>\n",
       "      <td>0</td>\n",
       "      <td>0</td>\n",
       "      <td>3</td>\n",
       "      <td>Not Selected</td>\n",
       "      <td>Room_Type 1</td>\n",
       "      <td>277</td>\n",
       "      <td>2019</td>\n",
       "      <td>7</td>\n",
       "      <td>13</td>\n",
       "      <td>Online</td>\n",
       "      <td>0</td>\n",
       "      <td>0</td>\n",
       "      <td>0</td>\n",
       "      <td>89.10</td>\n",
       "      <td>2</td>\n",
       "      <td>Canceled</td>\n",
       "      <td>low-cost</td>\n",
       "    </tr>\n",
       "  </tbody>\n",
       "</table>\n",
       "</div>"
      ],
      "text/plain": [
       "   no_of_adults  no_of_children  no_of_weekend_nights  no_of_week_nights  \\\n",
       "0             2               0                     1                  2   \n",
       "1             2               0                     2                  3   \n",
       "2             1               0                     2                  1   \n",
       "3             2               0                     0                  2   \n",
       "4             3               0                     0                  3   \n",
       "\n",
       "  type_of_meal_plan room_type_reserved  lead_time  arrival_year  \\\n",
       "0       Meal Plan 1        Room_Type 1        224          2017   \n",
       "1      Not Selected        Room_Type 1          5          2018   \n",
       "2       Meal Plan 1        Room_Type 1          1          2018   \n",
       "3       Meal Plan 1        Room_Type 1        211          2018   \n",
       "4      Not Selected        Room_Type 1        277          2019   \n",
       "\n",
       "   arrival_month  arrival_date market_segment_type repeated_guest  \\\n",
       "0             10             2             Offline              0   \n",
       "1             11             6              Online              0   \n",
       "2              2            28              Online              0   \n",
       "3              5            20              Online              0   \n",
       "4              7            13              Online              0   \n",
       "\n",
       "   no_of_previous_cancellations  no_of_previous_bookings_not_canceled  \\\n",
       "0                             0                                     0   \n",
       "1                             0                                     0   \n",
       "2                             0                                     0   \n",
       "3                             0                                     0   \n",
       "4                             0                                     0   \n",
       "\n",
       "   avg_price_per_room  no_of_special_requests booking_status  price_range  \n",
       "0               65.00                       0   Not_Canceled     low-cost  \n",
       "1              106.68                       1   Not_Canceled  medium-cost  \n",
       "2               60.00                       0       Canceled     low-cost  \n",
       "3              100.00                       0       Canceled  medium-cost  \n",
       "4               89.10                       2       Canceled     low-cost  "
      ]
     },
     "execution_count": 41,
     "metadata": {},
     "output_type": "execute_result"
    }
   ],
   "source": [
    "stardata.head()"
   ]
  },
  {
   "cell_type": "code",
   "execution_count": 42,
   "id": "187aea9d",
   "metadata": {},
   "outputs": [],
   "source": [
    "stardata[\"booking_status\"] = stardata[\"booking_status\"].apply(lambda x: 1 if x == \"Not_Canceled\" else 0)"
   ]
  },
  {
   "cell_type": "code",
   "execution_count": 43,
   "id": "d9e133b3",
   "metadata": {},
   "outputs": [],
   "source": [
    "stardata.drop([\"type_of_meal_plan\"], axis=1, inplace=True) #this will need to be dropped "
   ]
  },
  {
   "cell_type": "markdown",
   "id": "difficult-union",
   "metadata": {
    "id": "difficult-union"
   },
   "source": [
    "## EDA\n",
    "\n",
    "- It is a good idea to explore the data once again after manipulating it."
   ]
  },
  {
   "cell_type": "code",
   "execution_count": 44,
   "id": "interested-talent",
   "metadata": {
    "id": "interested-talent"
   },
   "outputs": [],
   "source": [
    "### Function to plot stacked bar charts for categorical columns\n",
    "def stacked_plot(x):\n",
    "    sns.set()\n",
    "    ## crosstab\n",
    "    tab1 = pd.crosstab(x, data[\"booking_status\"], margins=True).sort_values(\n",
    "        by=\"1\", ascending=False\n",
    "    )\n",
    "    print(tab1)\n",
    "    print(\"-\" * 120)\n",
    "    ## visualising the cross tab\n",
    "    tab = pd.crosstab(x, data[\"booking_status\"], normalize=\"index\").sort_values(\n",
    "        by=\" 1\", ascending=False\n",
    "    )\n",
    "    tab.plot(kind=\"bar\", stacked=True, figsize=(17, 7))\n",
    "    plt.legend(\n",
    "        loc=\"lower left\", frameon=False,\n",
    "    )\n",
    "    plt.legend(loc=\"upper left\", bbox_to_anchor=(1, 1))\n",
    "    plt.show()"
   ]
  },
  {
   "cell_type": "code",
   "execution_count": 45,
   "id": "ee5ab23f",
   "metadata": {},
   "outputs": [],
   "source": [
    "def stacked_barplot(data, predictor, target):\n",
    "    \"\"\"\n",
    "    Print the category counts and plot a stacked bar chart\n",
    "\n",
    "    data: dataframe\n",
    "    predictor: independent variable\n",
    "    target: target variable\n",
    "    \"\"\"\n",
    "    count = data[predictor].nunique()\n",
    "    sorter = data[target].value_counts().index[-1]\n",
    "    tab1 = pd.crosstab(data[predictor], data[target], margins=True).sort_values(\n",
    "        by=sorter, ascending=False\n",
    "    )\n",
    "    print(tab1)\n",
    "    print(\"-\" * 120)\n",
    "    tab = pd.crosstab(data[predictor], data[target], normalize=\"index\").sort_values(\n",
    "        by=sorter, ascending=False\n",
    "    )\n",
    "    tab.plot(kind=\"bar\", stacked=True, figsize=(count + 5, 5))\n",
    "    plt.legend(\n",
    "        loc=\"lower left\", frameon=False,\n",
    "    )\n",
    "    plt.legend(loc=\"upper left\", bbox_to_anchor=(1, 1))\n",
    "    plt.show()"
   ]
  },
  {
   "cell_type": "code",
   "execution_count": 46,
   "id": "b5d72361",
   "metadata": {},
   "outputs": [
    {
     "name": "stdout",
     "output_type": "stream",
     "text": [
      "room_type_reserved  Room_Type 1  Room_Type 2  Room_Type 3  Room_Type 4  \\\n",
      "price_range                                                              \n",
      "All                       42807          823            7        10413   \n",
      "low-cost                  23260          587            4         1643   \n",
      "medium-cost               19471          221            3         8500   \n",
      "high-cost                    76           15            0          270   \n",
      "\n",
      "room_type_reserved  Room_Type 5  Room_Type 6  Room_Type 7    All  \n",
      "price_range                                                       \n",
      "All                         983         1581          312  56926  \n",
      "low-cost                     73           42           55  25664  \n",
      "medium-cost                 723          937           68  29923  \n",
      "high-cost                   187          602          189   1339  \n",
      "------------------------------------------------------------------------------------------------------------------------\n"
     ]
    },
    {
     "data": {
      "image/png": "[encoded data removed]",
      "text/plain": [
       "<Figure size 576x360 with 1 Axes>"
      ]
     },
     "metadata": {
      "needs_background": "light"
     },
     "output_type": "display_data"
    }
   ],
   "source": [
    "stacked_barplot(stardata, \"price_range\", \"room_type_reserved\")"
   ]
  },
  {
   "cell_type": "markdown",
   "id": "2f03af69",
   "metadata": {},
   "source": [
    "#### Observation \n",
    "* Using the graph above, the majority of Room Type 1 are categorized in the low-cost and medium-cost rooms.\n",
    "* Room type 6 is categorized largely in the high-cost section. \n",
    "* Room Type 7 and Room Type 5 have similar reservation numbers in the high cost category."
   ]
  },
  {
   "cell_type": "code",
   "execution_count": 47,
   "id": "96825649",
   "metadata": {},
   "outputs": [
    {
     "name": "stdout",
     "output_type": "stream",
     "text": [
      "booking_status      0      1    All\n",
      "price_range                        \n",
      "All             21548  35378  56926\n",
      "medium-cost     13645  16278  29923\n",
      "low-cost         7081  18583  25664\n",
      "high-cost         822    517   1339\n",
      "------------------------------------------------------------------------------------------------------------------------\n"
     ]
    },
    {
     "data": {
      "image/png": "[encoded data removed]",
      "text/plain": [
       "<Figure size 576x360 with 1 Axes>"
      ]
     },
     "metadata": {
      "needs_background": "light"
     },
     "output_type": "display_data"
    }
   ],
   "source": [
    "stacked_barplot(stardata, \"price_range\", \"booking_status\")"
   ]
  },
  {
   "cell_type": "markdown",
   "id": "c232cb96",
   "metadata": {},
   "source": [
    "#### Observation\n",
    "* Using the graoh above,we see that the high cost rooms are more likely to cancel as their cancellation rate is higher than those who don't. \n",
    "* Medium cost and low cost rooms have more people that do not cancel than those who do cancel."
   ]
  },
  {
   "cell_type": "code",
   "execution_count": 48,
   "id": "d503ca47",
   "metadata": {},
   "outputs": [
    {
     "name": "stdout",
     "output_type": "stream",
     "text": [
      "no_of_previous_cancellations      0    1   2   3   4   5   6  11  13    All\n",
      "price_range                                                                \n",
      "low-cost                      25208  263  62  47  25  16  16  23   4  25664\n",
      "All                           56411  316  66  47  25  16  16  25   4  56926\n",
      "high-cost                      1339    0   0   0   0   0   0   0   0   1339\n",
      "medium-cost                   29864   53   4   0   0   0   0   2   0  29923\n",
      "------------------------------------------------------------------------------------------------------------------------\n"
     ]
    },
    {
     "data": {
      "image/png": "[encoded data removed]",
      "text/plain": [
       "<Figure size 576x360 with 1 Axes>"
      ]
     },
     "metadata": {
      "needs_background": "light"
     },
     "output_type": "display_data"
    }
   ],
   "source": [
    "stacked_barplot(stardata, \"price_range\", \"no_of_previous_cancellations\")"
   ]
  },
  {
   "cell_type": "markdown",
   "id": "fe2c0715",
   "metadata": {},
   "source": [
    "#### Observation\n",
    "* Using the graph above, we see that no high cost rooms have any cancellations and mostly low cost rooms are canceled."
   ]
  },
  {
   "cell_type": "code",
   "execution_count": 49,
   "id": "e7281993",
   "metadata": {},
   "outputs": [
    {
     "name": "stdout",
     "output_type": "stream",
     "text": [
      "no_of_previous_bookings_not_canceled      0    1    2    3   4   5   6   7  \\\n",
      "price_range                                                                  \n",
      "low-cost                              24525  283  140  107  83  79  51  45   \n",
      "All                                   55641  357  165  118  90  85  54  47   \n",
      "high-cost                              1337    2    0    0   0   0   0   0   \n",
      "medium-cost                           29779   72   25   11   7   6   3   2   \n",
      "\n",
      "no_of_previous_bookings_not_canceled   8   9  10  11  12  13  14  15  16  17  \\\n",
      "price_range                                                                    \n",
      "low-cost                              33  33  33  28  24  19  18  16  14  11   \n",
      "All                                   34  33  33  28  25  19  20  16  15  12   \n",
      "high-cost                              0   0   0   0   0   0   0   0   0   0   \n",
      "medium-cost                            1   0   0   0   1   0   2   0   1   1   \n",
      "\n",
      "no_of_previous_bookings_not_canceled  18  19  20  21  22  23  24  25  26  27  \\\n",
      "price_range                                                                    \n",
      "low-cost                              10  10   7   7   6   4   5   3   5   6   \n",
      "All                                   10  11   9   9   7   5   6   6   6   6   \n",
      "high-cost                              0   0   0   0   0   0   0   0   0   0   \n",
      "medium-cost                            0   1   2   2   1   1   1   3   1   0   \n",
      "\n",
      "no_of_previous_bookings_not_canceled  28  29  30  31  32  33  34  35  36  37  \\\n",
      "price_range                                                                    \n",
      "low-cost                               5   4   3   2   2   1   1   1   1   1   \n",
      "All                                    5   4   3   2   2   1   1   1   1   1   \n",
      "high-cost                              0   0   0   0   0   0   0   0   0   0   \n",
      "medium-cost                            0   0   0   0   0   0   0   0   0   0   \n",
      "\n",
      "no_of_previous_bookings_not_canceled  38  39  40  41  42  43  44  45  46  47  \\\n",
      "price_range                                                                    \n",
      "low-cost                               1   1   1   1   1   1   2   1   1   1   \n",
      "All                                    1   1   1   1   1   1   2   1   1   1   \n",
      "high-cost                              0   0   0   0   0   0   0   0   0   0   \n",
      "medium-cost                            0   0   0   0   0   0   0   0   0   0   \n",
      "\n",
      "no_of_previous_bookings_not_canceled  48  49  50  51  52  53  54  55  56  57  \\\n",
      "price_range                                                                    \n",
      "low-cost                               2   1   1   1   1   1   1   1   1   1   \n",
      "All                                    2   1   1   1   1   1   1   1   1   1   \n",
      "high-cost                              0   0   0   0   0   0   0   0   0   0   \n",
      "medium-cost                            0   0   0   0   0   0   0   0   0   0   \n",
      "\n",
      "no_of_previous_bookings_not_canceled  58  59  60  61  62  63  64  65  66  67  \\\n",
      "price_range                                                                    \n",
      "low-cost                               2   1   1   1   1   1   1   1   1   1   \n",
      "All                                    2   1   1   1   1   1   1   1   1   1   \n",
      "high-cost                              0   0   0   0   0   0   0   0   0   0   \n",
      "medium-cost                            0   0   0   0   0   0   0   0   0   0   \n",
      "\n",
      "no_of_previous_bookings_not_canceled  68  69  70  71  72    All  \n",
      "price_range                                                      \n",
      "low-cost                               1   1   1   1   1  25664  \n",
      "All                                    1   1   1   1   1  56926  \n",
      "high-cost                              0   0   0   0   0   1339  \n",
      "medium-cost                            0   0   0   0   0  29923  \n",
      "------------------------------------------------------------------------------------------------------------------------\n"
     ]
    },
    {
     "data": {
      "image/png": "[encoded data removed]",
      "text/plain": [
       "<Figure size 576x360 with 1 Axes>"
      ]
     },
     "metadata": {
      "needs_background": "light"
     },
     "output_type": "display_data"
    }
   ],
   "source": [
    "stacked_barplot(stardata, \"price_range\", \"no_of_previous_bookings_not_canceled\")"
   ]
  },
  {
   "cell_type": "code",
   "execution_count": 50,
   "id": "24b7470d",
   "metadata": {},
   "outputs": [
    {
     "name": "stdout",
     "output_type": "stream",
     "text": [
      "booking_status          0      1    All\n",
      "room_type_reserved                     \n",
      "All                 21548  35378  56926\n",
      "Room_Type 1         15651  27156  42807\n",
      "Room_Type 4          4206   6207  10413\n",
      "Room_Type 6           856    725   1581\n",
      "Room_Type 5           408    575    983\n",
      "Room_Type 2           311    512    823\n",
      "Room_Type 7           114    198    312\n",
      "Room_Type 3             2      5      7\n",
      "------------------------------------------------------------------------------------------------------------------------\n"
     ]
    },
    {
     "data": {
      "image/png": "[encoded data removed]",
      "text/plain": [
       "<Figure size 864x360 with 1 Axes>"
      ]
     },
     "metadata": {
      "needs_background": "light"
     },
     "output_type": "display_data"
    }
   ],
   "source": [
    "stacked_barplot(stardata, \"room_type_reserved\", \"booking_status\")"
   ]
  },
  {
   "cell_type": "code",
   "execution_count": 51,
   "id": "256a702f",
   "metadata": {},
   "outputs": [],
   "source": [
    "### function to plot distributions wrt target\n",
    "\n",
    "\n",
    "def distribution_plot_wrt_target(data, predictor, target):\n",
    "\n",
    "    fig, axs = plt.subplots(2, 2, figsize=(12, 10))\n",
    "\n",
    "    target_uniq = data[target].unique()\n",
    "\n",
    "    axs[0, 0].set_title(\"Distribution of target for target=\" + str(target_uniq[0]))\n",
    "    sns.histplot(\n",
    "        data=data[data[target] == target_uniq[0]],\n",
    "        x=predictor,\n",
    "        kde=True,\n",
    "        ax=axs[0, 0],\n",
    "        color=\"teal\",\n",
    "        stat=\"density\",\n",
    "    )\n",
    "\n",
    "    axs[0, 1].set_title(\"Distribution of target for target=\" + str(target_uniq[1]))\n",
    "    sns.histplot(\n",
    "        data=data[data[target] == target_uniq[1]],\n",
    "        x=predictor,\n",
    "        kde=True,\n",
    "        ax=axs[0, 1],\n",
    "        color=\"orange\",\n",
    "        stat=\"density\",\n",
    "    )\n",
    "\n",
    "    axs[1, 0].set_title(\"Boxplot w.r.t target\")\n",
    "    sns.boxplot(data=data, x=target, y=predictor, ax=axs[1, 0], palette=\"gist_rainbow\")\n",
    "\n",
    "    axs[1, 1].set_title(\"Boxplot (without outliers) w.r.t target\")\n",
    "    sns.boxplot(\n",
    "        data=data,\n",
    "        x=target,\n",
    "        y=predictor,\n",
    "        ax=axs[1, 1],\n",
    "        showfliers=False,\n",
    "        palette=\"gist_rainbow\",\n",
    "    )\n",
    "\n",
    "    plt.tight_layout()\n",
    "    plt.show()"
   ]
  },
  {
   "cell_type": "code",
   "execution_count": 52,
   "id": "8fc55edb",
   "metadata": {},
   "outputs": [
    {
     "data": {
      "image/png": "[encoded data removed]",
      "text/plain": [
       "<Figure size 864x720 with 4 Axes>"
      ]
     },
     "metadata": {
      "needs_background": "light"
     },
     "output_type": "display_data"
    }
   ],
   "source": [
    "distribution_plot_wrt_target(stardata, \"avg_price_per_room\", \"booking_status\")"
   ]
  },
  {
   "cell_type": "code",
   "execution_count": 53,
   "id": "8c989b69",
   "metadata": {},
   "outputs": [
    {
     "name": "stdout",
     "output_type": "stream",
     "text": [
      "<class 'pandas.core.frame.DataFrame'>\n",
      "RangeIndex: 56926 entries, 0 to 56925\n",
      "Data columns (total 17 columns):\n",
      " #   Column                                Non-Null Count  Dtype   \n",
      "---  ------                                --------------  -----   \n",
      " 0   no_of_adults                          56926 non-null  int64   \n",
      " 1   no_of_children                        56926 non-null  int64   \n",
      " 2   no_of_weekend_nights                  56926 non-null  int64   \n",
      " 3   no_of_week_nights                     56926 non-null  int64   \n",
      " 4   room_type_reserved                    56926 non-null  category\n",
      " 5   lead_time                             56926 non-null  int64   \n",
      " 6   arrival_year                          56926 non-null  int64   \n",
      " 7   arrival_month                         56926 non-null  int64   \n",
      " 8   arrival_date                          56926 non-null  int64   \n",
      " 9   market_segment_type                   56926 non-null  category\n",
      " 10  repeated_guest                        56926 non-null  category\n",
      " 11  no_of_previous_cancellations          56926 non-null  int64   \n",
      " 12  no_of_previous_bookings_not_canceled  56926 non-null  int64   \n",
      " 13  avg_price_per_room                    56926 non-null  float64 \n",
      " 14  no_of_special_requests                56926 non-null  int64   \n",
      " 15  booking_status                        56926 non-null  int64   \n",
      " 16  price_range                           56926 non-null  object  \n",
      "dtypes: category(3), float64(1), int64(12), object(1)\n",
      "memory usage: 6.2+ MB\n"
     ]
    }
   ],
   "source": [
    "stardata.info()"
   ]
  },
  {
   "cell_type": "code",
   "execution_count": 54,
   "id": "f64be646",
   "metadata": {},
   "outputs": [],
   "source": [
    "# split the data into train and test\n",
    "from sklearn.model_selection import train_test_split\n",
    "\n",
    "# to build linear regression_model\n",
    "from sklearn.linear_model import LinearRegression\n",
    "\n",
    "# to check model performance\n",
    "from sklearn.metrics import mean_absolute_error, mean_squared_error, r2_score\n",
    "\n",
    "# to build linear regression_model using statsmodels\n",
    "import statsmodels.api as sm\n",
    "\n",
    "# to compute VIF\n",
    "from statsmodels.stats.outliers_influence import variance_inflation_factor"
   ]
  },
  {
   "cell_type": "markdown",
   "id": "domestic-iceland",
   "metadata": {
    "id": "domestic-iceland"
   },
   "source": [
    "## Building a Logistic Regression model"
   ]
  },
  {
   "cell_type": "code",
   "execution_count": 55,
   "id": "unknown-institution",
   "metadata": {
    "id": "unknown-institution"
   },
   "outputs": [],
   "source": [
    "# dropping a few variables that will not affect the model too much, some of them have low variance.\n",
    "stardata = stardata.drop([\"arrival_year\", \"arrival_date\",\"price_range\", \"no_of_previous_cancellations\"], axis=1)\n",
    "#this type of data will be irrelevant"
   ]
  },
  {
   "cell_type": "code",
   "execution_count": 56,
   "id": "5b366968",
   "metadata": {},
   "outputs": [],
   "source": [
    "X = stardata.drop([\"booking_status\"], axis=1)\n",
    "Y = stardata[\"booking_status\"]\n",
    "\n",
    "X = pd.get_dummies(X, drop_first=True)\n",
    "\n",
    "# Splitting data in train and test sets\n",
    "X_train, X_test, y_train, y_test = train_test_split(\n",
    "    X, Y, test_size=0.30, random_state=1\n",
    ")"
   ]
  },
  {
   "cell_type": "code",
   "execution_count": 57,
   "id": "83b98ab5",
   "metadata": {},
   "outputs": [
    {
     "name": "stdout",
     "output_type": "stream",
     "text": [
      "Shape of Training set :  (39848, 20)\n",
      "Shape of test set :  (17078, 20)\n",
      "Percentage of classes in training set:\n",
      "1    0.620684\n",
      "0    0.379316\n",
      "Name: booking_status, dtype: float64\n",
      "Percentage of classes in test set:\n",
      "1    0.623317\n",
      "0    0.376683\n",
      "Name: booking_status, dtype: float64\n"
     ]
    }
   ],
   "source": [
    "print(\"Shape of Training set : \", X_train.shape)\n",
    "print(\"Shape of test set : \", X_test.shape)\n",
    "print(\"Percentage of classes in training set:\")\n",
    "print(y_train.value_counts(normalize=True))\n",
    "print(\"Percentage of classes in test set:\")\n",
    "print(y_test.value_counts(normalize=True))"
   ]
  },
  {
   "cell_type": "code",
   "execution_count": 59,
   "id": "e215d915",
   "metadata": {},
   "outputs": [],
   "source": [
    "# defining a function to compute different metrics to check performance of a classification model built using statsmodels\n",
    "def model_performance_classification_statsmodels(\n",
    "    model, predictors, target, threshold=0.5\n",
    "):\n",
    "    \"\"\"\n",
    "    Function to compute different metrics to check classification model performance\n",
    "\n",
    "    model: classifier\n",
    "    predictors: independent variables\n",
    "    target: dependent variable\n",
    "    threshold: threshold for classifying the observation as class 1\n",
    "    \"\"\"\n",
    "\n",
    "    # checking which probabilities are greater than threshold\n",
    "    pred_temp = model.predict(predictors) > threshold\n",
    "    # rounding off the above values to get classes\n",
    "    pred = np.round(pred_temp)\n",
    "\n",
    "    acc = accuracy_score(target, pred)  # to compute Accuracy\n",
    "    recall = recall_score(target, pred)  # to compute Recall\n",
    "    precision = precision_score(target, pred)  # to compute Precision\n",
    "    f1 = f1_score(target, pred)  # to compute F1-score\n",
    "\n",
    "    # creating a dataframe of metrics\n",
    "    df_perf = pd.DataFrame(\n",
    "        {\"Accuracy\": acc, \"Recall\": recall, \"Precision\": precision, \"F1\": f1,},\n",
    "        index=[0],\n",
    "    )\n",
    "\n",
    "    return df_perf"
   ]
  },
  {
   "cell_type": "code",
   "execution_count": 60,
   "id": "6ea8ab01",
   "metadata": {},
   "outputs": [],
   "source": [
    "# defining a function to plot the confusion_matrix of a classification model\n",
    "\n",
    "\n",
    "def confusion_matrix_statsmodels(model, predictors, target, threshold=0.5):\n",
    "    \"\"\"\n",
    "    To plot the confusion_matrix with percentages\n",
    "\n",
    "    model: classifier\n",
    "    predictors: independent variables\n",
    "    target: dependent variable\n",
    "    threshold: threshold for classifying the observation as class 1\n",
    "    \"\"\"\n",
    "    y_pred = model.predict(predictors) > threshold\n",
    "    cm = confusion_matrix(target, y_pred)\n",
    "    labels = np.asarray(\n",
    "        [\n",
    "            [\"{0:0.0f}\".format(item) + \"\\n{0:.2%}\".format(item / cm.flatten().sum())]\n",
    "            for item in cm.flatten()\n",
    "        ]\n",
    "    ).reshape(2, 2)\n",
    "\n",
    "    plt.figure(figsize=(6, 4))\n",
    "    sns.heatmap(cm, annot=labels, fmt=\"\")\n",
    "    plt.ylabel(\"True label\")\n",
    "    plt.xlabel(\"Predicted label\")"
   ]
  },
  {
   "cell_type": "markdown",
   "id": "98a4b4e3",
   "metadata": {},
   "source": [
    "# Logistic Regression (with statsmodel library)"
   ]
  },
  {
   "cell_type": "code",
   "execution_count": 69,
   "id": "46265392",
   "metadata": {},
   "outputs": [],
   "source": [
    "X = stardata.drop([\"booking_status\"], axis=1)\n",
    "Y = stardata[\"booking_status\"]\n",
    "\n",
    "X = pd.get_dummies(X, drop_first=True)\n",
    "\n",
    "# adding constant\n",
    "X = sm.add_constant(X)\n",
    "\n",
    "# Splitting data in train and test sets\n",
    "X_train, X_test, y_train, y_test = train_test_split(\n",
    "    X, Y, test_size=0.30, random_state=1\n",
    ")"
   ]
  },
  {
   "cell_type": "code",
   "execution_count": 70,
   "id": "cde8c338",
   "metadata": {},
   "outputs": [
    {
     "name": "stdout",
     "output_type": "stream",
     "text": [
      "                 Generalized Linear Model Regression Results                  \n",
      "==============================================================================\n",
      "Dep. Variable:         booking_status   No. Observations:                39848\n",
      "Model:                            GLM   Df Residuals:                    39827\n",
      "Model Family:                Gaussian   Df Model:                           20\n",
      "Link Function:               identity   Scale:                         0.15177\n",
      "Method:                          IRLS   Log-Likelihood:                -18967.\n",
      "Date:                Fri, 26 May 2023   Deviance:                       6044.7\n",
      "Time:                        13:21:27   Pearson chi2:                 6.04e+03\n",
      "No. Iterations:                     3   Pseudo R-squ. (CS):             0.4241\n",
      "Covariance Type:            nonrobust                                         \n",
      "========================================================================================================\n",
      "                                           coef    std err          z      P>|z|      [0.025      0.975]\n",
      "--------------------------------------------------------------------------------------------------------\n",
      "const                                    1.0325      0.032     31.842      0.000       0.969       1.096\n",
      "no_of_adults                          1.341e-05      0.004      0.003      0.998      -0.009       0.009\n",
      "no_of_children                          -0.0093      0.007     -1.376      0.169      -0.023       0.004\n",
      "no_of_weekend_nights                    -0.0133      0.002     -5.781      0.000      -0.018      -0.009\n",
      "no_of_week_nights                       -0.0102      0.001     -7.159      0.000      -0.013      -0.007\n",
      "lead_time                               -0.0026   2.27e-05   -113.646      0.000      -0.003      -0.003\n",
      "arrival_month                            0.0077      0.001     11.643      0.000       0.006       0.009\n",
      "no_of_previous_bookings_not_canceled    -0.0043      0.001     -3.336      0.001      -0.007      -0.002\n",
      "avg_price_per_room                      -0.0027   6.98e-05    -38.747      0.000      -0.003      -0.003\n",
      "no_of_special_requests                   0.1904      0.003     73.454      0.000       0.185       0.196\n",
      "room_type_reserved_Room_Type 2           0.0638      0.017      3.763      0.000       0.031       0.097\n",
      "room_type_reserved_Room_Type 3           0.0783      0.390      0.201      0.841      -0.686       0.842\n",
      "room_type_reserved_Room_Type 4           0.0410      0.006      7.086      0.000       0.030       0.052\n",
      "room_type_reserved_Room_Type 5           0.0510      0.015      3.294      0.001       0.021       0.081\n",
      "room_type_reserved_Room_Type 6           0.0897      0.017      5.321      0.000       0.057       0.123\n",
      "room_type_reserved_Room_Type 7           0.1236      0.028      4.482      0.000       0.070       0.178\n",
      "market_segment_type_Complementary       -0.2619      0.038     -6.886      0.000      -0.336      -0.187\n",
      "market_segment_type_Corporate            0.0044      0.032      0.137      0.891      -0.059       0.068\n",
      "market_segment_type_Offline              0.1658      0.032      5.221      0.000       0.104       0.228\n",
      "market_segment_type_Online              -0.0958      0.032     -3.033      0.002      -0.158      -0.034\n",
      "repeated_guest_1                         0.0475      0.017      2.818      0.005       0.014       0.080\n",
      "========================================================================================================\n"
     ]
    }
   ],
   "source": [
    "# fitting logistic regression model\n",
    "logit = sm.GLM(y_train, X_train.astype(float))\n",
    "lg = logit.fit(disp=False)\n",
    "\n",
    "print(lg.summary())"
   ]
  },
  {
   "cell_type": "code",
   "execution_count": 71,
   "id": "216d7d3c",
   "metadata": {},
   "outputs": [
    {
     "name": "stdout",
     "output_type": "stream",
     "text": [
      "Training performance:\n"
     ]
    },
    {
     "data": {
      "text/html": [
       "<div>\n",
       "<style scoped>\n",
       "    .dataframe tbody tr th:only-of-type {\n",
       "        vertical-align: middle;\n",
       "    }\n",
       "\n",
       "    .dataframe tbody tr th {\n",
       "        vertical-align: top;\n",
       "    }\n",
       "\n",
       "    .dataframe thead th {\n",
       "        text-align: right;\n",
       "    }\n",
       "</style>\n",
       "<table border=\"1\" class=\"dataframe\">\n",
       "  <thead>\n",
       "    <tr style=\"text-align: right;\">\n",
       "      <th></th>\n",
       "      <th>Accuracy</th>\n",
       "      <th>Recall</th>\n",
       "      <th>Precision</th>\n",
       "      <th>F1</th>\n",
       "    </tr>\n",
       "  </thead>\n",
       "  <tbody>\n",
       "    <tr>\n",
       "      <th>0</th>\n",
       "      <td>0.783728</td>\n",
       "      <td>0.877047</td>\n",
       "      <td>0.795482</td>\n",
       "      <td>0.834276</td>\n",
       "    </tr>\n",
       "  </tbody>\n",
       "</table>\n",
       "</div>"
      ],
      "text/plain": [
       "   Accuracy    Recall  Precision        F1\n",
       "0  0.783728  0.877047   0.795482  0.834276"
      ]
     },
     "execution_count": 71,
     "metadata": {},
     "output_type": "execute_result"
    }
   ],
   "source": [
    "print(\"Training performance:\")\n",
    "model_performance_classification_statsmodels(lg, X_train, y_train)"
   ]
  },
  {
   "cell_type": "markdown",
   "id": "64ab618a",
   "metadata": {},
   "source": [
    "#### Observations\n",
    "* Negative values of the coefficient shows that probability of someone cancelling their reservation decreases with the increase of corresponding attribute value.\n",
    "* Positive values of the coefficient shows that the probability of someone cancelling their reservation increases with the increase of corresponding attribute value.\n",
    "* p-value of a variable indicates if the variable is significant or not. If we consider the significance level to be 0.05 (5%), then any variable with a p-value less than 0.05 would be considered significant."
   ]
  },
  {
   "cell_type": "markdown",
   "id": "8d4c7b18",
   "metadata": {},
   "source": [
    "# Checking Multicollinearity\n",
    "\n",
    "- In order to make statistical inferences from a logistic regression model, it is important to ensure that there is no multicollinearity present in the data."
   ]
  },
  {
   "cell_type": "code",
   "execution_count": 72,
   "id": "d04d2cdd",
   "metadata": {},
   "outputs": [
    {
     "name": "stdout",
     "output_type": "stream",
     "text": [
      "Series before feature selection: \n",
      "\n",
      "const                                   276.062443\n",
      "no_of_adults                              1.372362\n",
      "no_of_children                            2.038860\n",
      "no_of_weekend_nights                      1.063749\n",
      "no_of_week_nights                         1.082747\n",
      "lead_time                                 1.144730\n",
      "arrival_month                             1.037348\n",
      "no_of_previous_bookings_not_canceled      1.462037\n",
      "avg_price_per_room                        1.889994\n",
      "no_of_special_requests                    1.170714\n",
      "room_type_reserved_Room_Type 2            1.074779\n",
      "room_type_reserved_Room_Type 3            1.000942\n",
      "room_type_reserved_Room_Type 4            1.305345\n",
      "room_type_reserved_Room_Type 5            1.099803\n",
      "room_type_reserved_Room_Type 6            2.033190\n",
      "room_type_reserved_Room_Type 7            1.131930\n",
      "market_segment_type_Complementary         3.567310\n",
      "market_segment_type_Corporate            12.844814\n",
      "market_segment_type_Offline              48.827059\n",
      "market_segment_type_Online               55.693196\n",
      "repeated_guest_1                          1.768540\n",
      "dtype: float64\n",
      "\n"
     ]
    }
   ],
   "source": [
    "vif_series = pd.Series(\n",
    "    [variance_inflation_factor(X_train.values, i) for i in range(X_train.shape[1])],\n",
    "    index=X_train.columns,\n",
    "    dtype=float,\n",
    ")\n",
    "print(\"Series before feature selection: \\n\\n{}\\n\".format(vif_series))"
   ]
  },
  {
   "cell_type": "code",
   "execution_count": 73,
   "id": "51949e24",
   "metadata": {},
   "outputs": [
    {
     "name": "stdout",
     "output_type": "stream",
     "text": [
      "Series before feature selection: \n",
      "\n",
      "const                                   32.815001\n",
      "no_of_adults                             1.354257\n",
      "no_of_children                           2.038550\n",
      "no_of_weekend_nights                     1.062732\n",
      "no_of_week_nights                        1.082108\n",
      "lead_time                                1.139329\n",
      "arrival_month                            1.037185\n",
      "no_of_previous_bookings_not_canceled     1.458549\n",
      "avg_price_per_room                       1.888646\n",
      "no_of_special_requests                   1.170649\n",
      "room_type_reserved_Room_Type 2           1.074778\n",
      "room_type_reserved_Room_Type 3           1.000939\n",
      "room_type_reserved_Room_Type 4           1.296264\n",
      "room_type_reserved_Room_Type 5           1.099702\n",
      "room_type_reserved_Room_Type 6           2.033111\n",
      "room_type_reserved_Room_Type 7           1.131902\n",
      "market_segment_type_Complementary        1.279416\n",
      "market_segment_type_Corporate            1.487255\n",
      "market_segment_type_Online               1.500965\n",
      "repeated_guest_1                         1.741025\n",
      "dtype: float64\n",
      "\n"
     ]
    }
   ],
   "source": [
    "#removing market_segment_type_Offline\n",
    "\n",
    "X_train1 = X_train.drop(\"market_segment_type_Offline\", axis=1)\n",
    "vif_series2 = pd.Series(\n",
    "    [variance_inflation_factor(X_train1.values, i) for i in range(X_train1.shape[1])],\n",
    "    index=X_train1.columns,\n",
    ")\n",
    "print(\"Series before feature selection: \\n\\n{}\\n\".format(vif_series2))\n"
   ]
  },
  {
   "cell_type": "code",
   "execution_count": 74,
   "id": "acd3178e",
   "metadata": {},
   "outputs": [
    {
     "name": "stdout",
     "output_type": "stream",
     "text": [
      "Training performance:\n"
     ]
    },
    {
     "data": {
      "text/html": [
       "<div>\n",
       "<style scoped>\n",
       "    .dataframe tbody tr th:only-of-type {\n",
       "        vertical-align: middle;\n",
       "    }\n",
       "\n",
       "    .dataframe tbody tr th {\n",
       "        vertical-align: top;\n",
       "    }\n",
       "\n",
       "    .dataframe thead th {\n",
       "        text-align: right;\n",
       "    }\n",
       "</style>\n",
       "<table border=\"1\" class=\"dataframe\">\n",
       "  <thead>\n",
       "    <tr style=\"text-align: right;\">\n",
       "      <th></th>\n",
       "      <th>Accuracy</th>\n",
       "      <th>Recall</th>\n",
       "      <th>Precision</th>\n",
       "      <th>F1</th>\n",
       "    </tr>\n",
       "  </thead>\n",
       "  <tbody>\n",
       "    <tr>\n",
       "      <th>0</th>\n",
       "      <td>0.783829</td>\n",
       "      <td>0.876966</td>\n",
       "      <td>0.795642</td>\n",
       "      <td>0.834327</td>\n",
       "    </tr>\n",
       "  </tbody>\n",
       "</table>\n",
       "</div>"
      ],
      "text/plain": [
       "   Accuracy    Recall  Precision        F1\n",
       "0  0.783829  0.876966   0.795642  0.834327"
      ]
     },
     "execution_count": 74,
     "metadata": {},
     "output_type": "execute_result"
    }
   ],
   "source": [
    "logit2 = sm.GLM(y_train, X_train1.astype(float))\n",
    "lg2 = logit2.fit()\n",
    "\n",
    "print(\"Training performance:\")\n",
    "model_performance_classification_statsmodels(lg2, X_train1, y_train)"
   ]
  },
  {
   "cell_type": "code",
   "execution_count": 75,
   "id": "07605f7f",
   "metadata": {},
   "outputs": [
    {
     "name": "stdout",
     "output_type": "stream",
     "text": [
      "                 Generalized Linear Model Regression Results                  \n",
      "==============================================================================\n",
      "Dep. Variable:         booking_status   No. Observations:                39848\n",
      "Model:                            GLM   Df Residuals:                    39828\n",
      "Model Family:                Gaussian   Df Model:                           19\n",
      "Link Function:               identity   Scale:                         0.15187\n",
      "Method:                          IRLS   Log-Likelihood:                -18981.\n",
      "Date:                Fri, 26 May 2023   Deviance:                       6048.8\n",
      "Time:                        13:22:18   Pearson chi2:                 6.05e+03\n",
      "No. Iterations:                     3   Pseudo R-squ. (CS):             0.4235\n",
      "Covariance Type:            nonrobust                                         \n",
      "========================================================================================================\n",
      "                                           coef    std err          z      P>|z|      [0.025      0.975]\n",
      "--------------------------------------------------------------------------------------------------------\n",
      "const                                    1.1915      0.011    106.538      0.000       1.170       1.213\n",
      "no_of_adults                             0.0027      0.004      0.607      0.544      -0.006       0.011\n",
      "no_of_children                          -0.0089      0.007     -1.312      0.190      -0.022       0.004\n",
      "no_of_weekend_nights                    -0.0136      0.002     -5.943      0.000      -0.018      -0.009\n",
      "no_of_week_nights                       -0.0103      0.001     -7.286      0.000      -0.013      -0.008\n",
      "lead_time                               -0.0026   2.26e-05   -113.519      0.000      -0.003      -0.003\n",
      "arrival_month                            0.0077      0.001     11.706      0.000       0.006       0.009\n",
      "no_of_previous_bookings_not_canceled    -0.0040      0.001     -3.084      0.002      -0.007      -0.001\n",
      "avg_price_per_room                      -0.0027   6.98e-05    -38.887      0.000      -0.003      -0.003\n",
      "no_of_special_requests                   0.1905      0.003     73.471      0.000       0.185       0.196\n",
      "room_type_reserved_Room_Type 2           0.0637      0.017      3.759      0.000       0.030       0.097\n",
      "room_type_reserved_Room_Type 3           0.0744      0.390      0.191      0.849      -0.690       0.839\n",
      "room_type_reserved_Room_Type 4           0.0385      0.006      6.672      0.000       0.027       0.050\n",
      "room_type_reserved_Room_Type 5           0.0502      0.015      3.244      0.001       0.020       0.081\n",
      "room_type_reserved_Room_Type 6           0.0892      0.017      5.287      0.000       0.056       0.122\n",
      "room_type_reserved_Room_Type 7           0.1229      0.028      4.454      0.000       0.069       0.177\n",
      "market_segment_type_Complementary       -0.4209      0.023    -18.475      0.000      -0.466      -0.376\n",
      "market_segment_type_Corporate           -0.1542      0.011    -14.023      0.000      -0.176      -0.133\n",
      "market_segment_type_Online              -0.2585      0.005    -49.834      0.000      -0.269      -0.248\n",
      "repeated_guest_1                         0.0365      0.017      2.183      0.029       0.004       0.069\n",
      "========================================================================================================\n"
     ]
    }
   ],
   "source": [
    "print(lg2.summary())"
   ]
  },
  {
   "cell_type": "code",
   "execution_count": 77,
   "id": "9fdd2728",
   "metadata": {},
   "outputs": [
    {
     "name": "stdout",
     "output_type": "stream",
     "text": [
      "                 Generalized Linear Model Regression Results                  \n",
      "==============================================================================\n",
      "Dep. Variable:         booking_status   No. Observations:                39848\n",
      "Model:                            GLM   Df Residuals:                    39829\n",
      "Model Family:                Gaussian   Df Model:                           18\n",
      "Link Function:               identity   Scale:                         0.15187\n",
      "Method:                          IRLS   Log-Likelihood:                -18981.\n",
      "Date:                Fri, 26 May 2023   Deviance:                       6048.8\n",
      "Time:                        13:22:58   Pearson chi2:                 6.05e+03\n",
      "No. Iterations:                     3   Pseudo R-squ. (CS):             0.4235\n",
      "Covariance Type:            nonrobust                                         \n",
      "========================================================================================================\n",
      "                                           coef    std err          z      P>|z|      [0.025      0.975]\n",
      "--------------------------------------------------------------------------------------------------------\n",
      "const                                    1.1951      0.009    127.021      0.000       1.177       1.214\n",
      "no_of_children                          -0.0094      0.007     -1.394      0.163      -0.023       0.004\n",
      "no_of_weekend_nights                    -0.0136      0.002     -5.920      0.000      -0.018      -0.009\n",
      "no_of_week_nights                       -0.0103      0.001     -7.267      0.000      -0.013      -0.008\n",
      "lead_time                               -0.0026   2.25e-05   -114.183      0.000      -0.003      -0.003\n",
      "arrival_month                            0.0077      0.001     11.695      0.000       0.006       0.009\n",
      "no_of_previous_bookings_not_canceled    -0.0040      0.001     -3.088      0.002      -0.007      -0.001\n",
      "avg_price_per_room                      -0.0027   6.87e-05    -39.413      0.000      -0.003      -0.003\n",
      "no_of_special_requests                   0.1907      0.003     73.785      0.000       0.186       0.196\n",
      "room_type_reserved_Room_Type 2           0.0632      0.017      3.734      0.000       0.030       0.096\n",
      "room_type_reserved_Room_Type 3           0.0760      0.390      0.195      0.845      -0.688       0.840\n",
      "room_type_reserved_Room_Type 4           0.0392      0.006      6.962      0.000       0.028       0.050\n",
      "room_type_reserved_Room_Type 5           0.0509      0.015      3.299      0.001       0.021       0.081\n",
      "room_type_reserved_Room_Type 6           0.0897      0.017      5.326      0.000       0.057       0.123\n",
      "room_type_reserved_Room_Type 7           0.1241      0.028      4.507      0.000       0.070       0.178\n",
      "market_segment_type_Complementary       -0.4208      0.023    -18.473      0.000      -0.465      -0.376\n",
      "market_segment_type_Corporate           -0.1553      0.011    -14.304      0.000      -0.177      -0.134\n",
      "market_segment_type_Online              -0.2583      0.005    -49.873      0.000      -0.268      -0.248\n",
      "repeated_guest_1                         0.0359      0.017      2.153      0.031       0.003       0.069\n",
      "========================================================================================================\n"
     ]
    }
   ],
   "source": [
    "#Dropping No of adults\n",
    "X_train2 = X_train1.drop(\n",
    "    [\"no_of_adults\"], axis=1\n",
    ")\n",
    "\n",
    "logit3 = sm.GLM(y_train, X_train2.astype(float))\n",
    "lg3 = logit3.fit()\n",
    "\n",
    "print(lg3.summary())\n"
   ]
  },
  {
   "cell_type": "code",
   "execution_count": 78,
   "id": "9ebfdc58",
   "metadata": {},
   "outputs": [
    {
     "name": "stdout",
     "output_type": "stream",
     "text": [
      "['const', 'no_of_weekend_nights', 'no_of_week_nights', 'lead_time', 'arrival_month', 'no_of_previous_bookings_not_canceled', 'avg_price_per_room', 'no_of_special_requests', 'room_type_reserved_Room_Type 2', 'room_type_reserved_Room_Type 4', 'room_type_reserved_Room_Type 5', 'room_type_reserved_Room_Type 6', 'room_type_reserved_Room_Type 7', 'market_segment_type_Complementary', 'market_segment_type_Corporate', 'market_segment_type_Online', 'repeated_guest_1']\n"
     ]
    }
   ],
   "source": [
    "# running a loop to drop variables with high p-value\n",
    "\n",
    "# initial list of columns\n",
    "cols = X_train2.columns.tolist()\n",
    "\n",
    "# setting an initial max p-value\n",
    "max_p_value = 1\n",
    "\n",
    "while len(cols) > 0:\n",
    "    # defining the train set\n",
    "    X_train_aux = X_train2[cols]\n",
    "\n",
    "    # fitting the model\n",
    "    model = sm.GLM(y_train, X_train_aux).fit(disp=False)\n",
    "\n",
    "    # getting the p-values and the maximum p-value\n",
    "    p_values = model.pvalues\n",
    "    max_p_value = max(p_values)\n",
    "\n",
    "    # name of the variable with maximum p-value\n",
    "    feature_with_p_max = p_values.idxmax()\n",
    "\n",
    "    if max_p_value > 0.05:\n",
    "        cols.remove(feature_with_p_max)\n",
    "    else:\n",
    "        break\n",
    "\n",
    "selected_features = cols\n",
    "print(selected_features)"
   ]
  },
  {
   "cell_type": "code",
   "execution_count": 79,
   "id": "bea945b5",
   "metadata": {},
   "outputs": [],
   "source": [
    "X_train3 = X_train2[selected_features]"
   ]
  },
  {
   "cell_type": "code",
   "execution_count": 80,
   "id": "1547a2c4",
   "metadata": {},
   "outputs": [
    {
     "name": "stdout",
     "output_type": "stream",
     "text": [
      "                 Generalized Linear Model Regression Results                  \n",
      "==============================================================================\n",
      "Dep. Variable:         booking_status   No. Observations:                39848\n",
      "Model:                            GLM   Df Residuals:                    39831\n",
      "Model Family:                Gaussian   Df Model:                           16\n",
      "Link Function:               identity   Scale:                         0.15187\n",
      "Method:                          IRLS   Log-Likelihood:                -18982.\n",
      "Date:                Fri, 26 May 2023   Deviance:                       6049.1\n",
      "Time:                        13:23:20   Pearson chi2:                 6.05e+03\n",
      "No. Iterations:                     3   Pseudo R-squ. (CS):             0.4234\n",
      "Covariance Type:            nonrobust                                         \n",
      "========================================================================================================\n",
      "                                           coef    std err          z      P>|z|      [0.025      0.975]\n",
      "--------------------------------------------------------------------------------------------------------\n",
      "const                                    1.1961      0.009    127.502      0.000       1.178       1.214\n",
      "no_of_weekend_nights                    -0.0136      0.002     -5.949      0.000      -0.018      -0.009\n",
      "no_of_week_nights                       -0.0103      0.001     -7.296      0.000      -0.013      -0.008\n",
      "lead_time                               -0.0026   2.25e-05   -114.191      0.000      -0.003      -0.003\n",
      "arrival_month                            0.0077      0.001     11.717      0.000       0.006       0.009\n",
      "no_of_previous_bookings_not_canceled    -0.0040      0.001     -3.079      0.002      -0.007      -0.001\n",
      "avg_price_per_room                      -0.0027   6.82e-05    -39.878      0.000      -0.003      -0.003\n",
      "no_of_special_requests                   0.1904      0.003     73.853      0.000       0.185       0.195\n",
      "room_type_reserved_Room_Type 2           0.0578      0.016      3.507      0.000       0.026       0.090\n",
      "room_type_reserved_Room_Type 4           0.0399      0.006      7.101      0.000       0.029       0.051\n",
      "room_type_reserved_Room_Type 5           0.0514      0.015      3.328      0.001       0.021       0.082\n",
      "room_type_reserved_Room_Type 6           0.0754      0.013      5.645      0.000       0.049       0.102\n",
      "room_type_reserved_Room_Type 7           0.1171      0.027      4.326      0.000       0.064       0.170\n",
      "market_segment_type_Complementary       -0.4216      0.023    -18.512      0.000      -0.466      -0.377\n",
      "market_segment_type_Corporate           -0.1554      0.011    -14.319      0.000      -0.177      -0.134\n",
      "market_segment_type_Online              -0.2585      0.005    -49.930      0.000      -0.269      -0.248\n",
      "repeated_guest_1                         0.0361      0.017      2.165      0.030       0.003       0.069\n",
      "========================================================================================================\n"
     ]
    }
   ],
   "source": [
    "logit4 = sm.GLM(y_train, X_train3.astype(float))\n",
    "lg4 = logit4.fit(disp=False)\n",
    "\n",
    "print(lg4.summary())"
   ]
  },
  {
   "cell_type": "code",
   "execution_count": 81,
   "id": "52f157d3",
   "metadata": {},
   "outputs": [
    {
     "data": {
      "text/html": [
       "<div>\n",
       "<style scoped>\n",
       "    .dataframe tbody tr th:only-of-type {\n",
       "        vertical-align: middle;\n",
       "    }\n",
       "\n",
       "    .dataframe tbody tr th {\n",
       "        vertical-align: top;\n",
       "    }\n",
       "\n",
       "    .dataframe thead th {\n",
       "        text-align: right;\n",
       "    }\n",
       "</style>\n",
       "<table border=\"1\" class=\"dataframe\">\n",
       "  <thead>\n",
       "    <tr style=\"text-align: right;\">\n",
       "      <th></th>\n",
       "      <th>const</th>\n",
       "      <th>no_of_weekend_nights</th>\n",
       "      <th>no_of_week_nights</th>\n",
       "      <th>lead_time</th>\n",
       "      <th>arrival_month</th>\n",
       "      <th>no_of_previous_bookings_not_canceled</th>\n",
       "      <th>avg_price_per_room</th>\n",
       "      <th>no_of_special_requests</th>\n",
       "      <th>room_type_reserved_Room_Type 2</th>\n",
       "      <th>room_type_reserved_Room_Type 4</th>\n",
       "      <th>room_type_reserved_Room_Type 5</th>\n",
       "      <th>room_type_reserved_Room_Type 6</th>\n",
       "      <th>room_type_reserved_Room_Type 7</th>\n",
       "      <th>market_segment_type_Complementary</th>\n",
       "      <th>market_segment_type_Corporate</th>\n",
       "      <th>market_segment_type_Online</th>\n",
       "      <th>repeated_guest_1</th>\n",
       "    </tr>\n",
       "  </thead>\n",
       "  <tbody>\n",
       "    <tr>\n",
       "      <th>Odds</th>\n",
       "      <td>3.307218</td>\n",
       "      <td>0.986454</td>\n",
       "      <td>0.989704</td>\n",
       "      <td>0.997435</td>\n",
       "      <td>1.007736</td>\n",
       "      <td>0.996016</td>\n",
       "      <td>0.997285</td>\n",
       "      <td>1.209784</td>\n",
       "      <td>1.059517</td>\n",
       "      <td>1.040659</td>\n",
       "      <td>1.052716</td>\n",
       "      <td>1.078338</td>\n",
       "      <td>1.124271</td>\n",
       "      <td>0.656008</td>\n",
       "      <td>0.856100</td>\n",
       "      <td>0.772216</td>\n",
       "      <td>1.036794</td>\n",
       "    </tr>\n",
       "    <tr>\n",
       "      <th>Change_odd%</th>\n",
       "      <td>230.721831</td>\n",
       "      <td>-1.354639</td>\n",
       "      <td>-1.029585</td>\n",
       "      <td>-0.256530</td>\n",
       "      <td>0.773560</td>\n",
       "      <td>-0.398421</td>\n",
       "      <td>-0.271480</td>\n",
       "      <td>20.978441</td>\n",
       "      <td>5.951736</td>\n",
       "      <td>4.065912</td>\n",
       "      <td>5.271593</td>\n",
       "      <td>7.833795</td>\n",
       "      <td>12.427125</td>\n",
       "      <td>-34.399180</td>\n",
       "      <td>-14.389969</td>\n",
       "      <td>-22.778394</td>\n",
       "      <td>3.679374</td>\n",
       "    </tr>\n",
       "  </tbody>\n",
       "</table>\n",
       "</div>"
      ],
      "text/plain": [
       "                  const  no_of_weekend_nights  no_of_week_nights  lead_time  \\\n",
       "Odds           3.307218              0.986454           0.989704   0.997435   \n",
       "Change_odd%  230.721831             -1.354639          -1.029585  -0.256530   \n",
       "\n",
       "             arrival_month  no_of_previous_bookings_not_canceled  \\\n",
       "Odds              1.007736                              0.996016   \n",
       "Change_odd%       0.773560                             -0.398421   \n",
       "\n",
       "             avg_price_per_room  no_of_special_requests  \\\n",
       "Odds                   0.997285                1.209784   \n",
       "Change_odd%           -0.271480               20.978441   \n",
       "\n",
       "             room_type_reserved_Room_Type 2  room_type_reserved_Room_Type 4  \\\n",
       "Odds                               1.059517                        1.040659   \n",
       "Change_odd%                        5.951736                        4.065912   \n",
       "\n",
       "             room_type_reserved_Room_Type 5  room_type_reserved_Room_Type 6  \\\n",
       "Odds                               1.052716                        1.078338   \n",
       "Change_odd%                        5.271593                        7.833795   \n",
       "\n",
       "             room_type_reserved_Room_Type 7  \\\n",
       "Odds                               1.124271   \n",
       "Change_odd%                       12.427125   \n",
       "\n",
       "             market_segment_type_Complementary  market_segment_type_Corporate  \\\n",
       "Odds                                  0.656008                       0.856100   \n",
       "Change_odd%                         -34.399180                     -14.389969   \n",
       "\n",
       "             market_segment_type_Online  repeated_guest_1  \n",
       "Odds                           0.772216          1.036794  \n",
       "Change_odd%                  -22.778394          3.679374  "
      ]
     },
     "execution_count": 81,
     "metadata": {},
     "output_type": "execute_result"
    }
   ],
   "source": [
    "# converting coefficients to odds\n",
    "odds = np.exp(lg4.params)\n",
    "\n",
    "# finding the percentage change\n",
    "perc_change_odds = (np.exp(lg4.params) - 1) * 100\n",
    "\n",
    "# removing limit from number of columns to display\n",
    "pd.set_option(\"display.max_columns\", None)\n",
    "\n",
    "# adding the odds to a dataframe\n",
    "pd.DataFrame({\"Odds\": odds, \"Change_odd%\": perc_change_odds}, index=X_train3.columns).T"
   ]
  },
  {
   "cell_type": "code",
   "execution_count": 82,
   "id": "d4540dd9",
   "metadata": {},
   "outputs": [
    {
     "data": {
      "image/png": "[encoded data removed]",
      "text/plain": [
       "<Figure size 432x288 with 2 Axes>"
      ]
     },
     "metadata": {
      "needs_background": "light"
     },
     "output_type": "display_data"
    }
   ],
   "source": [
    "# creating confusion matrix\n",
    "confusion_matrix_statsmodels(lg4, X_train3, y_train)"
   ]
  },
  {
   "cell_type": "code",
   "execution_count": 83,
   "id": "f0ea62fc",
   "metadata": {},
   "outputs": [
    {
     "name": "stdout",
     "output_type": "stream",
     "text": [
      "Training performance:\n"
     ]
    },
    {
     "data": {
      "text/html": [
       "<div>\n",
       "<style scoped>\n",
       "    .dataframe tbody tr th:only-of-type {\n",
       "        vertical-align: middle;\n",
       "    }\n",
       "\n",
       "    .dataframe tbody tr th {\n",
       "        vertical-align: top;\n",
       "    }\n",
       "\n",
       "    .dataframe thead th {\n",
       "        text-align: right;\n",
       "    }\n",
       "</style>\n",
       "<table border=\"1\" class=\"dataframe\">\n",
       "  <thead>\n",
       "    <tr style=\"text-align: right;\">\n",
       "      <th></th>\n",
       "      <th>Accuracy</th>\n",
       "      <th>Recall</th>\n",
       "      <th>Precision</th>\n",
       "      <th>F1</th>\n",
       "    </tr>\n",
       "  </thead>\n",
       "  <tbody>\n",
       "    <tr>\n",
       "      <th>0</th>\n",
       "      <td>0.783578</td>\n",
       "      <td>0.876926</td>\n",
       "      <td>0.795372</td>\n",
       "      <td>0.83416</td>\n",
       "    </tr>\n",
       "  </tbody>\n",
       "</table>\n",
       "</div>"
      ],
      "text/plain": [
       "   Accuracy    Recall  Precision       F1\n",
       "0  0.783578  0.876926   0.795372  0.83416"
      ]
     },
     "execution_count": 83,
     "metadata": {},
     "output_type": "execute_result"
    }
   ],
   "source": [
    "log_reg_model_train_perf = model_performance_classification_statsmodels(\n",
    "    lg4, X_train3, y_train\n",
    ")\n",
    "\n",
    "print(\"Training performance:\")\n",
    "log_reg_model_train_perf"
   ]
  },
  {
   "cell_type": "code",
   "execution_count": 84,
   "id": "75817073",
   "metadata": {},
   "outputs": [
    {
     "data": {
      "image/png": "[encoded data removed]",
      "text/plain": [
       "<Figure size 504x360 with 1 Axes>"
      ]
     },
     "metadata": {
      "needs_background": "light"
     },
     "output_type": "display_data"
    }
   ],
   "source": [
    "from sklearn.metrics import roc_auc_score\n",
    "from sklearn.metrics import roc_curve\n",
    "from sklearn.metrics import auc\n",
    "logit_roc_auc_train = roc_auc_score(y_train, lg4.predict(X_train3))\n",
    "fpr, tpr, thresholds = roc_curve(y_train, lg4.predict(X_train3))\n",
    "plt.figure(figsize=(7, 5))\n",
    "plt.plot(fpr, tpr, label=\"Logistic Regression (area = %0.2f)\" % logit_roc_auc_train)\n",
    "plt.plot([0, 1], [0, 1], \"r--\")\n",
    "plt.xlim([0.0, 1.0])\n",
    "plt.ylim([0.0, 1.05])\n",
    "plt.xlabel(\"False Positive Rate\")\n",
    "plt.ylabel(\"True Positive Rate\")\n",
    "plt.title(\"Receiver operating characteristic\")\n",
    "plt.legend(loc=\"lower right\")\n",
    "plt.show()"
   ]
  },
  {
   "cell_type": "markdown",
   "id": "historic-season",
   "metadata": {
    "id": "historic-season"
   },
   "source": [
    "## Model performance evaluation"
   ]
  },
  {
   "cell_type": "code",
   "execution_count": 85,
   "id": "integral-conservation",
   "metadata": {
    "id": "integral-conservation"
   },
   "outputs": [
    {
     "name": "stdout",
     "output_type": "stream",
     "text": [
      "0.6022110465160474\n"
     ]
    }
   ],
   "source": [
    "# Optimal threshold as per AUC-ROC curve\n",
    "# The optimal cut off would be where tpr is high and fpr is low\n",
    "fpr, tpr, thresholds = roc_curve(y_train, lg4.predict(X_train3))\n",
    "\n",
    "optimal_idx = np.argmax(tpr - fpr)\n",
    "optimal_threshold_auc_roc = thresholds[optimal_idx]\n",
    "print(optimal_threshold_auc_roc)"
   ]
  },
  {
   "cell_type": "code",
   "execution_count": 86,
   "id": "ca5db808",
   "metadata": {},
   "outputs": [
    {
     "data": {
      "image/png": "[encoded data removed]",
      "text/plain": [
       "<Figure size 432x288 with 2 Axes>"
      ]
     },
     "metadata": {
      "needs_background": "light"
     },
     "output_type": "display_data"
    }
   ],
   "source": [
    "# creating confusion matrix\n",
    "confusion_matrix_statsmodels(\n",
    "    lg4, X_train3, y_train, threshold=optimal_threshold_auc_roc\n",
    ")"
   ]
  },
  {
   "cell_type": "code",
   "execution_count": 87,
   "id": "25ed14dd",
   "metadata": {},
   "outputs": [
    {
     "name": "stdout",
     "output_type": "stream",
     "text": [
      "Training performance:\n"
     ]
    },
    {
     "data": {
      "text/html": [
       "<div>\n",
       "<style scoped>\n",
       "    .dataframe tbody tr th:only-of-type {\n",
       "        vertical-align: middle;\n",
       "    }\n",
       "\n",
       "    .dataframe tbody tr th {\n",
       "        vertical-align: top;\n",
       "    }\n",
       "\n",
       "    .dataframe thead th {\n",
       "        text-align: right;\n",
       "    }\n",
       "</style>\n",
       "<table border=\"1\" class=\"dataframe\">\n",
       "  <thead>\n",
       "    <tr style=\"text-align: right;\">\n",
       "      <th></th>\n",
       "      <th>Accuracy</th>\n",
       "      <th>Recall</th>\n",
       "      <th>Precision</th>\n",
       "      <th>F1</th>\n",
       "    </tr>\n",
       "  </thead>\n",
       "  <tbody>\n",
       "    <tr>\n",
       "      <th>0</th>\n",
       "      <td>0.773815</td>\n",
       "      <td>0.774431</td>\n",
       "      <td>0.847972</td>\n",
       "      <td>0.809535</td>\n",
       "    </tr>\n",
       "  </tbody>\n",
       "</table>\n",
       "</div>"
      ],
      "text/plain": [
       "   Accuracy    Recall  Precision        F1\n",
       "0  0.773815  0.774431   0.847972  0.809535"
      ]
     },
     "execution_count": 87,
     "metadata": {},
     "output_type": "execute_result"
    }
   ],
   "source": [
    "# checking model performance for this model\n",
    "log_reg_model_train_perf_threshold_auc_roc = model_performance_classification_statsmodels(\n",
    "    lg4, X_train3, y_train, threshold=optimal_threshold_auc_roc\n",
    ")\n",
    "print(\"Training performance:\")\n",
    "log_reg_model_train_perf_threshold_auc_roc"
   ]
  },
  {
   "cell_type": "code",
   "execution_count": 88,
   "id": "598d6c60",
   "metadata": {},
   "outputs": [
    {
     "data": {
      "image/png": "[encoded data removed]",
      "text/plain": [
       "<Figure size 720x504 with 1 Axes>"
      ]
     },
     "metadata": {
      "needs_background": "light"
     },
     "output_type": "display_data"
    }
   ],
   "source": [
    "from sklearn.metrics import precision_recall_curve  #import the library\n",
    "y_scores = lg4.predict(X_train3)\n",
    "prec, rec, tre = precision_recall_curve(y_train, y_scores,)\n",
    "\n",
    "\n",
    "def plot_prec_recall_vs_tresh(precisions, recalls, thresholds):\n",
    "    plt.plot(thresholds, precisions[:-1], \"b--\", label=\"precision\")\n",
    "    plt.plot(thresholds, recalls[:-1], \"g--\", label=\"recall\")\n",
    "    plt.xlabel(\"Threshold\")\n",
    "    plt.legend(loc=\"upper left\")\n",
    "    plt.ylim([0, 1])\n",
    "\n",
    "\n",
    "plt.figure(figsize=(10, 7))\n",
    "plot_prec_recall_vs_tresh(prec, rec, tre)\n",
    "plt.show()"
   ]
  },
  {
   "cell_type": "code",
   "execution_count": 89,
   "id": "282ebdd1",
   "metadata": {},
   "outputs": [],
   "source": [
    "# setting the threshold\n",
    "optimal_threshold_curve = 0.60"
   ]
  },
  {
   "cell_type": "code",
   "execution_count": 90,
   "id": "a9c371a3",
   "metadata": {},
   "outputs": [
    {
     "data": {
      "image/png": "[encoded data removed]",
      "text/plain": [
       "<Figure size 432x288 with 2 Axes>"
      ]
     },
     "metadata": {
      "needs_background": "light"
     },
     "output_type": "display_data"
    }
   ],
   "source": [
    "# creating confusion matrix\n",
    "confusion_matrix_statsmodels(lg4, X_train3, y_train, threshold=optimal_threshold_curve)"
   ]
  },
  {
   "cell_type": "code",
   "execution_count": 91,
   "id": "ced0998f",
   "metadata": {},
   "outputs": [
    {
     "name": "stdout",
     "output_type": "stream",
     "text": [
      "Training performance:\n"
     ]
    },
    {
     "data": {
      "text/html": [
       "<div>\n",
       "<style scoped>\n",
       "    .dataframe tbody tr th:only-of-type {\n",
       "        vertical-align: middle;\n",
       "    }\n",
       "\n",
       "    .dataframe tbody tr th {\n",
       "        vertical-align: top;\n",
       "    }\n",
       "\n",
       "    .dataframe thead th {\n",
       "        text-align: right;\n",
       "    }\n",
       "</style>\n",
       "<table border=\"1\" class=\"dataframe\">\n",
       "  <thead>\n",
       "    <tr style=\"text-align: right;\">\n",
       "      <th></th>\n",
       "      <th>Accuracy</th>\n",
       "      <th>Recall</th>\n",
       "      <th>Precision</th>\n",
       "      <th>F1</th>\n",
       "    </tr>\n",
       "  </thead>\n",
       "  <tbody>\n",
       "    <tr>\n",
       "      <th>0</th>\n",
       "      <td>0.773966</td>\n",
       "      <td>0.776412</td>\n",
       "      <td>0.846693</td>\n",
       "      <td>0.810031</td>\n",
       "    </tr>\n",
       "  </tbody>\n",
       "</table>\n",
       "</div>"
      ],
      "text/plain": [
       "   Accuracy    Recall  Precision        F1\n",
       "0  0.773966  0.776412   0.846693  0.810031"
      ]
     },
     "execution_count": 91,
     "metadata": {},
     "output_type": "execute_result"
    }
   ],
   "source": [
    "log_reg_model_train_perf_threshold_curve = model_performance_classification_statsmodels(\n",
    "    lg4, X_train3, y_train, threshold=optimal_threshold_curve\n",
    ")\n",
    "print(\"Training performance:\")\n",
    "log_reg_model_train_perf_threshold_curve"
   ]
  },
  {
   "cell_type": "code",
   "execution_count": 120,
   "id": "302f8e83",
   "metadata": {},
   "outputs": [
    {
     "name": "stdout",
     "output_type": "stream",
     "text": [
      "Training performance comparison:\n"
     ]
    },
    {
     "data": {
      "text/html": [
       "<div>\n",
       "<style scoped>\n",
       "    .dataframe tbody tr th:only-of-type {\n",
       "        vertical-align: middle;\n",
       "    }\n",
       "\n",
       "    .dataframe tbody tr th {\n",
       "        vertical-align: top;\n",
       "    }\n",
       "\n",
       "    .dataframe thead th {\n",
       "        text-align: right;\n",
       "    }\n",
       "</style>\n",
       "<table border=\"1\" class=\"dataframe\">\n",
       "  <thead>\n",
       "    <tr style=\"text-align: right;\">\n",
       "      <th></th>\n",
       "      <th>Logistic Regression sklearn</th>\n",
       "      <th>Logistic Regression-0.33 Threshold</th>\n",
       "      <th>Logistic Regression-0.37 Threshold</th>\n",
       "    </tr>\n",
       "  </thead>\n",
       "  <tbody>\n",
       "    <tr>\n",
       "      <th>Accuracy</th>\n",
       "      <td>0.783578</td>\n",
       "      <td>0.773815</td>\n",
       "      <td>0.773966</td>\n",
       "    </tr>\n",
       "    <tr>\n",
       "      <th>Recall</th>\n",
       "      <td>0.876926</td>\n",
       "      <td>0.774431</td>\n",
       "      <td>0.776412</td>\n",
       "    </tr>\n",
       "    <tr>\n",
       "      <th>Precision</th>\n",
       "      <td>0.795372</td>\n",
       "      <td>0.847972</td>\n",
       "      <td>0.846693</td>\n",
       "    </tr>\n",
       "    <tr>\n",
       "      <th>F1</th>\n",
       "      <td>0.834160</td>\n",
       "      <td>0.809535</td>\n",
       "      <td>0.810031</td>\n",
       "    </tr>\n",
       "  </tbody>\n",
       "</table>\n",
       "</div>"
      ],
      "text/plain": [
       "           Logistic Regression sklearn  Logistic Regression-0.33 Threshold  \\\n",
       "Accuracy                      0.783578                            0.773815   \n",
       "Recall                        0.876926                            0.774431   \n",
       "Precision                     0.795372                            0.847972   \n",
       "F1                            0.834160                            0.809535   \n",
       "\n",
       "           Logistic Regression-0.37 Threshold  \n",
       "Accuracy                             0.773966  \n",
       "Recall                               0.776412  \n",
       "Precision                            0.846693  \n",
       "F1                                   0.810031  "
      ]
     },
     "execution_count": 120,
     "metadata": {},
     "output_type": "execute_result"
    }
   ],
   "source": [
    "# training performance comparison\n",
    "\n",
    "models_train_comp_df = pd.concat(\n",
    "    [\n",
    "        log_reg_model_train_perf.T,\n",
    "        log_reg_model_train_perf_threshold_auc_roc.T,\n",
    "        log_reg_model_train_perf_threshold_curve.T,\n",
    "    ],\n",
    "    axis=1,\n",
    ")\n",
    "models_train_comp_df.columns = [\n",
    "    \"Logistic Regression sklearn\",\n",
    "    \"Logistic Regression-0.33 Threshold\",\n",
    "    \"Logistic Regression-0.37 Threshold\",\n",
    "]\n",
    "\n",
    "print(\"Training performance comparison:\")\n",
    "models_train_comp_df"
   ]
  },
  {
   "cell_type": "code",
   "execution_count": 122,
   "id": "f0fe470f",
   "metadata": {},
   "outputs": [],
   "source": [
    "X_test3 = X_test[list(X_train3.columns)]"
   ]
  },
  {
   "cell_type": "code",
   "execution_count": 123,
   "id": "7a1c9237",
   "metadata": {},
   "outputs": [
    {
     "data": {
      "image/png": "[encoded data removed]",
      "text/plain": [
       "<Figure size 432x288 with 2 Axes>"
      ]
     },
     "metadata": {
      "needs_background": "light"
     },
     "output_type": "display_data"
    }
   ],
   "source": [
    "# creating confusion matrix\n",
    "confusion_matrix_statsmodels(lg4, X_test3, y_test)"
   ]
  },
  {
   "cell_type": "code",
   "execution_count": 124,
   "id": "5146ada2",
   "metadata": {},
   "outputs": [
    {
     "name": "stdout",
     "output_type": "stream",
     "text": [
      "Test performance:\n"
     ]
    },
    {
     "data": {
      "text/html": [
       "<div>\n",
       "<style scoped>\n",
       "    .dataframe tbody tr th:only-of-type {\n",
       "        vertical-align: middle;\n",
       "    }\n",
       "\n",
       "    .dataframe tbody tr th {\n",
       "        vertical-align: top;\n",
       "    }\n",
       "\n",
       "    .dataframe thead th {\n",
       "        text-align: right;\n",
       "    }\n",
       "</style>\n",
       "<table border=\"1\" class=\"dataframe\">\n",
       "  <thead>\n",
       "    <tr style=\"text-align: right;\">\n",
       "      <th></th>\n",
       "      <th>Accuracy</th>\n",
       "      <th>Recall</th>\n",
       "      <th>Precision</th>\n",
       "      <th>F1</th>\n",
       "    </tr>\n",
       "  </thead>\n",
       "  <tbody>\n",
       "    <tr>\n",
       "      <th>0</th>\n",
       "      <td>0.790901</td>\n",
       "      <td>0.881822</td>\n",
       "      <td>0.802308</td>\n",
       "      <td>0.840188</td>\n",
       "    </tr>\n",
       "  </tbody>\n",
       "</table>\n",
       "</div>"
      ],
      "text/plain": [
       "   Accuracy    Recall  Precision        F1\n",
       "0  0.790901  0.881822   0.802308  0.840188"
      ]
     },
     "execution_count": 124,
     "metadata": {},
     "output_type": "execute_result"
    }
   ],
   "source": [
    "log_reg_model_test_perf = model_performance_classification_statsmodels(\n",
    "    lg4, X_test3, y_test\n",
    ")\n",
    "\n",
    "print(\"Test performance:\")\n",
    "log_reg_model_test_perf"
   ]
  },
  {
   "cell_type": "code",
   "execution_count": 125,
   "id": "b2d69c38",
   "metadata": {},
   "outputs": [
    {
     "data": {
      "image/png": "[encoded data removed]",
      "text/plain": [
       "<Figure size 504x360 with 1 Axes>"
      ]
     },
     "metadata": {
      "needs_background": "light"
     },
     "output_type": "display_data"
    }
   ],
   "source": [
    "logit_roc_auc_train = roc_auc_score(y_test, lg4.predict(X_test3))\n",
    "fpr, tpr, thresholds = roc_curve(y_test, lg4.predict(X_test3))\n",
    "plt.figure(figsize=(7, 5))\n",
    "plt.plot(fpr, tpr, label=\"Logistic Regression (area = %0.2f)\" % logit_roc_auc_train)\n",
    "plt.plot([0, 1], [0, 1], \"r--\")\n",
    "plt.xlim([0.0, 1.0])\n",
    "plt.ylim([0.0, 1.05])\n",
    "plt.xlabel(\"False Positive Rate\")\n",
    "plt.ylabel(\"True Positive Rate\")\n",
    "plt.title(\"Receiver operating characteristic\")\n",
    "plt.legend(loc=\"lower right\")\n",
    "plt.show()"
   ]
  },
  {
   "cell_type": "code",
   "execution_count": 126,
   "id": "98a068d7",
   "metadata": {},
   "outputs": [
    {
     "data": {
      "image/png": "[encoded data removed]",
      "text/plain": [
       "<Figure size 432x288 with 2 Axes>"
      ]
     },
     "metadata": {
      "needs_background": "light"
     },
     "output_type": "display_data"
    }
   ],
   "source": [
    "# creating confusion matrix\n",
    "confusion_matrix_statsmodels(lg4, X_test3, y_test, threshold=optimal_threshold_auc_roc)"
   ]
  },
  {
   "cell_type": "code",
   "execution_count": 127,
   "id": "860bae8f",
   "metadata": {},
   "outputs": [
    {
     "name": "stdout",
     "output_type": "stream",
     "text": [
      "Test performance:\n"
     ]
    },
    {
     "data": {
      "text/html": [
       "<div>\n",
       "<style scoped>\n",
       "    .dataframe tbody tr th:only-of-type {\n",
       "        vertical-align: middle;\n",
       "    }\n",
       "\n",
       "    .dataframe tbody tr th {\n",
       "        vertical-align: top;\n",
       "    }\n",
       "\n",
       "    .dataframe thead th {\n",
       "        text-align: right;\n",
       "    }\n",
       "</style>\n",
       "<table border=\"1\" class=\"dataframe\">\n",
       "  <thead>\n",
       "    <tr style=\"text-align: right;\">\n",
       "      <th></th>\n",
       "      <th>Accuracy</th>\n",
       "      <th>Recall</th>\n",
       "      <th>Precision</th>\n",
       "      <th>F1</th>\n",
       "    </tr>\n",
       "  </thead>\n",
       "  <tbody>\n",
       "    <tr>\n",
       "      <th>0</th>\n",
       "      <td>0.77755</td>\n",
       "      <td>0.777924</td>\n",
       "      <td>0.852305</td>\n",
       "      <td>0.813418</td>\n",
       "    </tr>\n",
       "  </tbody>\n",
       "</table>\n",
       "</div>"
      ],
      "text/plain": [
       "   Accuracy    Recall  Precision        F1\n",
       "0   0.77755  0.777924   0.852305  0.813418"
      ]
     },
     "execution_count": 127,
     "metadata": {},
     "output_type": "execute_result"
    }
   ],
   "source": [
    "# checking model performance for this model\n",
    "log_reg_model_test_perf_threshold_auc_roc = model_performance_classification_statsmodels(\n",
    "    lg4, X_test3, y_test, threshold=optimal_threshold_auc_roc\n",
    ")\n",
    "print(\"Test performance:\")\n",
    "log_reg_model_test_perf_threshold_auc_roc"
   ]
  },
  {
   "cell_type": "code",
   "execution_count": 128,
   "id": "c102b89f",
   "metadata": {},
   "outputs": [
    {
     "data": {
      "image/png": "[encoded data removed]",
      "text/plain": [
       "<Figure size 432x288 with 2 Axes>"
      ]
     },
     "metadata": {
      "needs_background": "light"
     },
     "output_type": "display_data"
    }
   ],
   "source": [
    "# creating confusion matrix\n",
    "confusion_matrix_statsmodels(lg4, X_test3, y_test, threshold=optimal_threshold_curve)"
   ]
  },
  {
   "cell_type": "code",
   "execution_count": 129,
   "id": "b9f1d0d1",
   "metadata": {},
   "outputs": [
    {
     "name": "stdout",
     "output_type": "stream",
     "text": [
      "Test performance:\n"
     ]
    },
    {
     "data": {
      "text/html": [
       "<div>\n",
       "<style scoped>\n",
       "    .dataframe tbody tr th:only-of-type {\n",
       "        vertical-align: middle;\n",
       "    }\n",
       "\n",
       "    .dataframe tbody tr th {\n",
       "        vertical-align: top;\n",
       "    }\n",
       "\n",
       "    .dataframe thead th {\n",
       "        text-align: right;\n",
       "    }\n",
       "</style>\n",
       "<table border=\"1\" class=\"dataframe\">\n",
       "  <thead>\n",
       "    <tr style=\"text-align: right;\">\n",
       "      <th></th>\n",
       "      <th>Accuracy</th>\n",
       "      <th>Recall</th>\n",
       "      <th>Precision</th>\n",
       "      <th>F1</th>\n",
       "    </tr>\n",
       "  </thead>\n",
       "  <tbody>\n",
       "    <tr>\n",
       "      <th>0</th>\n",
       "      <td>0.778428</td>\n",
       "      <td>0.780366</td>\n",
       "      <td>0.851738</td>\n",
       "      <td>0.814492</td>\n",
       "    </tr>\n",
       "  </tbody>\n",
       "</table>\n",
       "</div>"
      ],
      "text/plain": [
       "   Accuracy    Recall  Precision        F1\n",
       "0  0.778428  0.780366   0.851738  0.814492"
      ]
     },
     "execution_count": 129,
     "metadata": {},
     "output_type": "execute_result"
    }
   ],
   "source": [
    "log_reg_model_test_perf_threshold_curve = model_performance_classification_statsmodels(\n",
    "    lg4, X_test3, y_test, threshold=optimal_threshold_curve\n",
    ")\n",
    "print(\"Test performance:\")\n",
    "log_reg_model_test_perf_threshold_curve"
   ]
  },
  {
   "cell_type": "markdown",
   "id": "stylish-collaboration",
   "metadata": {
    "id": "stylish-collaboration"
   },
   "source": [
    "## Final Model Summary"
   ]
  },
  {
   "cell_type": "code",
   "execution_count": 130,
   "id": "related-breathing",
   "metadata": {
    "id": "related-breathing"
   },
   "outputs": [
    {
     "name": "stdout",
     "output_type": "stream",
     "text": [
      "Training performance comparison:\n"
     ]
    },
    {
     "data": {
      "text/html": [
       "<div>\n",
       "<style scoped>\n",
       "    .dataframe tbody tr th:only-of-type {\n",
       "        vertical-align: middle;\n",
       "    }\n",
       "\n",
       "    .dataframe tbody tr th {\n",
       "        vertical-align: top;\n",
       "    }\n",
       "\n",
       "    .dataframe thead th {\n",
       "        text-align: right;\n",
       "    }\n",
       "</style>\n",
       "<table border=\"1\" class=\"dataframe\">\n",
       "  <thead>\n",
       "    <tr style=\"text-align: right;\">\n",
       "      <th></th>\n",
       "      <th>Logistic Regression sklearn</th>\n",
       "      <th>Logistic Regression-0.60 Threshold</th>\n",
       "      <th>Logistic Regression-0.6 Threshold</th>\n",
       "    </tr>\n",
       "  </thead>\n",
       "  <tbody>\n",
       "    <tr>\n",
       "      <th>Accuracy</th>\n",
       "      <td>0.783578</td>\n",
       "      <td>0.773815</td>\n",
       "      <td>0.773966</td>\n",
       "    </tr>\n",
       "    <tr>\n",
       "      <th>Recall</th>\n",
       "      <td>0.876926</td>\n",
       "      <td>0.774431</td>\n",
       "      <td>0.776412</td>\n",
       "    </tr>\n",
       "    <tr>\n",
       "      <th>Precision</th>\n",
       "      <td>0.795372</td>\n",
       "      <td>0.847972</td>\n",
       "      <td>0.846693</td>\n",
       "    </tr>\n",
       "    <tr>\n",
       "      <th>F1</th>\n",
       "      <td>0.834160</td>\n",
       "      <td>0.809535</td>\n",
       "      <td>0.810031</td>\n",
       "    </tr>\n",
       "  </tbody>\n",
       "</table>\n",
       "</div>"
      ],
      "text/plain": [
       "           Logistic Regression sklearn  Logistic Regression-0.60 Threshold  \\\n",
       "Accuracy                      0.783578                            0.773815   \n",
       "Recall                        0.876926                            0.774431   \n",
       "Precision                     0.795372                            0.847972   \n",
       "F1                            0.834160                            0.809535   \n",
       "\n",
       "           Logistic Regression-0.6 Threshold  \n",
       "Accuracy                            0.773966  \n",
       "Recall                              0.776412  \n",
       "Precision                           0.846693  \n",
       "F1                                  0.810031  "
      ]
     },
     "execution_count": 130,
     "metadata": {},
     "output_type": "execute_result"
    }
   ],
   "source": [
    "# training performance comparison\n",
    "\n",
    "models_train_comp_df = pd.concat(\n",
    "    [\n",
    "        log_reg_model_train_perf.T,\n",
    "        log_reg_model_train_perf_threshold_auc_roc.T,\n",
    "        log_reg_model_train_perf_threshold_curve.T,\n",
    "    ],\n",
    "    axis=1,\n",
    ")\n",
    "models_train_comp_df.columns = [\n",
    "    \"Logistic Regression sklearn\",\n",
    "    \"Logistic Regression-0.60 Threshold\",\n",
    "    \"Logistic Regression-0.6 Threshold\",\n",
    "]\n",
    "\n",
    "print(\"Training performance comparison:\")\n",
    "models_train_comp_df"
   ]
  },
  {
   "cell_type": "code",
   "execution_count": 131,
   "id": "0d6eff31",
   "metadata": {},
   "outputs": [
    {
     "name": "stdout",
     "output_type": "stream",
     "text": [
      "Test set performance comparison:\n"
     ]
    },
    {
     "data": {
      "text/html": [
       "<div>\n",
       "<style scoped>\n",
       "    .dataframe tbody tr th:only-of-type {\n",
       "        vertical-align: middle;\n",
       "    }\n",
       "\n",
       "    .dataframe tbody tr th {\n",
       "        vertical-align: top;\n",
       "    }\n",
       "\n",
       "    .dataframe thead th {\n",
       "        text-align: right;\n",
       "    }\n",
       "</style>\n",
       "<table border=\"1\" class=\"dataframe\">\n",
       "  <thead>\n",
       "    <tr style=\"text-align: right;\">\n",
       "      <th></th>\n",
       "      <th>Logistic Regression sklearn</th>\n",
       "      <th>Logistic Regression-0.60 Threshold</th>\n",
       "      <th>Logistic Regression-0.6 Threshold</th>\n",
       "    </tr>\n",
       "  </thead>\n",
       "  <tbody>\n",
       "    <tr>\n",
       "      <th>Accuracy</th>\n",
       "      <td>0.790901</td>\n",
       "      <td>0.777550</td>\n",
       "      <td>0.778428</td>\n",
       "    </tr>\n",
       "    <tr>\n",
       "      <th>Recall</th>\n",
       "      <td>0.881822</td>\n",
       "      <td>0.777924</td>\n",
       "      <td>0.780366</td>\n",
       "    </tr>\n",
       "    <tr>\n",
       "      <th>Precision</th>\n",
       "      <td>0.802308</td>\n",
       "      <td>0.852305</td>\n",
       "      <td>0.851738</td>\n",
       "    </tr>\n",
       "    <tr>\n",
       "      <th>F1</th>\n",
       "      <td>0.840188</td>\n",
       "      <td>0.813418</td>\n",
       "      <td>0.814492</td>\n",
       "    </tr>\n",
       "  </tbody>\n",
       "</table>\n",
       "</div>"
      ],
      "text/plain": [
       "           Logistic Regression sklearn  Logistic Regression-0.60 Threshold  \\\n",
       "Accuracy                      0.790901                            0.777550   \n",
       "Recall                        0.881822                            0.777924   \n",
       "Precision                     0.802308                            0.852305   \n",
       "F1                            0.840188                            0.813418   \n",
       "\n",
       "           Logistic Regression-0.6 Threshold  \n",
       "Accuracy                            0.778428  \n",
       "Recall                              0.780366  \n",
       "Precision                           0.851738  \n",
       "F1                                  0.814492  "
      ]
     },
     "execution_count": 131,
     "metadata": {},
     "output_type": "execute_result"
    }
   ],
   "source": [
    "# testing performance comparison\n",
    "\n",
    "models_test_comp_df = pd.concat(\n",
    "    [\n",
    "        log_reg_model_test_perf.T,\n",
    "        log_reg_model_test_perf_threshold_auc_roc.T,\n",
    "        log_reg_model_test_perf_threshold_curve.T,\n",
    "    ],\n",
    "    axis=1,\n",
    ")\n",
    "models_test_comp_df.columns = [\n",
    "    \"Logistic Regression sklearn\",\n",
    "    \"Logistic Regression-0.60 Threshold\",\n",
    "    \"Logistic Regression-0.6 Threshold\",\n",
    "]\n",
    "\n",
    "print(\"Test set performance comparison:\")\n",
    "models_test_comp_df"
   ]
  },
  {
   "cell_type": "markdown",
   "id": "amazing-fluid",
   "metadata": {
    "id": "amazing-fluid"
   },
   "source": [
    "## Building a Decision Tree model"
   ]
  },
  {
   "cell_type": "code",
   "execution_count": 132,
   "id": "neither-hydrogen",
   "metadata": {
    "id": "neither-hydrogen"
   },
   "outputs": [],
   "source": [
    "##  Function to calculate recall score\n",
    "def get_recall_score(model, predictors, target):\n",
    "    \"\"\"\n",
    "    model: classifier\n",
    "    predictors: independent variables\n",
    "    target: dependent variable\n",
    "    \n",
    "    \"\"\"\n",
    "    prediction = model.predict(predictors)\n",
    "    return recall_score(target, prediction)\n"
   ]
  },
  {
   "cell_type": "code",
   "execution_count": 133,
   "id": "6c960558",
   "metadata": {},
   "outputs": [],
   "source": [
    "def confusion_matrix_sklearn(model, predictors, target):\n",
    "    \"\"\"\n",
    "    To plot the confusion_matrix with percentages\n",
    "\n",
    "    model: classifier\n",
    "    predictors: independent variables\n",
    "    target: dependent variable\n",
    "    \"\"\"\n",
    "    y_pred = model.predict(predictors)\n",
    "    cm = confusion_matrix(target, y_pred)\n",
    "    labels = np.asarray(\n",
    "        [\n",
    "            [\"{0:0.0f}\".format(item) + \"\\n{0:.2%}\".format(item / cm.flatten().sum())]\n",
    "            for item in cm.flatten()\n",
    "        ]\n",
    "    ).reshape(2, 2)\n",
    "\n",
    "    plt.figure(figsize=(6, 4))\n",
    "    sns.heatmap(cm, annot=labels, fmt=\"\")\n",
    "    plt.ylabel(\"True label\")\n",
    "    plt.xlabel(\"Predicted label\")"
   ]
  },
  {
   "cell_type": "code",
   "execution_count": 134,
   "id": "c0d45f5a",
   "metadata": {},
   "outputs": [],
   "source": [
    "#wj is the weight for each class (j signifies the class)\n",
    "# n_samples is the total number of samples or rows in the dataset\n",
    "# n_classesis the total number of unique classes in the target\n",
    "# n_samplesis the total number of rows of the respective class\n",
    "n_samples = X_train3.shape[0]\n",
    "n_samples_1 = y_train.value_counts()[0]\n",
    "n_samples_0 = y_train.value_counts()[1]\n",
    "n_classes = y_train.nunique()\n",
    "\n",
    "w_0=n_samples / (n_classes * n_samples_0)\n",
    "w_1=n_samples / (n_classes * n_samples_1)"
   ]
  },
  {
   "cell_type": "code",
   "execution_count": 136,
   "id": "5bb1badf",
   "metadata": {},
   "outputs": [],
   "source": [
    "model = DecisionTreeClassifier(\n",
    "    criterion=\"gini\", class_weight={0: w_0, 1: w_1}, random_state=1\n",
    ")"
   ]
  },
  {
   "cell_type": "code",
   "execution_count": 137,
   "id": "73d27110",
   "metadata": {},
   "outputs": [
    {
     "data": {
      "text/plain": [
       "DecisionTreeClassifier(class_weight={0: 0.8055634172967291,\n",
       "                                     1: 1.3181607674495535},\n",
       "                       random_state=1)"
      ]
     },
     "execution_count": 137,
     "metadata": {},
     "output_type": "execute_result"
    }
   ],
   "source": [
    "model.fit(X_train3, y_train)"
   ]
  },
  {
   "cell_type": "code",
   "execution_count": 138,
   "id": "0ee95f14",
   "metadata": {},
   "outputs": [
    {
     "data": {
      "image/png": "[encoded data removed]",
      "text/plain": [
       "<Figure size 432x288 with 2 Axes>"
      ]
     },
     "metadata": {
      "needs_background": "light"
     },
     "output_type": "display_data"
    }
   ],
   "source": [
    "confusion_matrix_sklearn(model, X_train3, y_train)"
   ]
  },
  {
   "cell_type": "code",
   "execution_count": 139,
   "id": "7e905bcc",
   "metadata": {},
   "outputs": [
    {
     "name": "stdout",
     "output_type": "stream",
     "text": [
      "Recall Score: 0.998665750212267\n"
     ]
    }
   ],
   "source": [
    "decision_tree_perf_train = get_recall_score(model, X_train3, y_train)\n",
    "\n",
    "print(\"Recall Score:\", decision_tree_perf_train)"
   ]
  },
  {
   "cell_type": "code",
   "execution_count": 140,
   "id": "263db9d5",
   "metadata": {},
   "outputs": [
    {
     "data": {
      "image/png": "[encoded data removed]",
      "text/plain": [
       "<Figure size 432x288 with 2 Axes>"
      ]
     },
     "metadata": {
      "needs_background": "light"
     },
     "output_type": "display_data"
    }
   ],
   "source": [
    "confusion_matrix_sklearn(model, X_test3, y_test)"
   ]
  },
  {
   "cell_type": "code",
   "execution_count": 141,
   "id": "9219ed63",
   "metadata": {},
   "outputs": [
    {
     "name": "stdout",
     "output_type": "stream",
     "text": [
      "Recall Score: 0.8711131986848285\n"
     ]
    }
   ],
   "source": [
    "decision_tree_perf_test = get_recall_score(model, X_test3, y_test)\n",
    "print(\"Recall Score:\", decision_tree_perf_test)"
   ]
  },
  {
   "cell_type": "markdown",
   "id": "limited-strengthening",
   "metadata": {
    "id": "limited-strengthening"
   },
   "source": [
    "## Do we need to prune the tree?"
   ]
  },
  {
   "cell_type": "code",
   "execution_count": 142,
   "id": "ambient-elements",
   "metadata": {
    "id": "ambient-elements"
   },
   "outputs": [],
   "source": [
    "clf = DecisionTreeClassifier(random_state=1, class_weight={0: w_0, 1: w_1})\n",
    "path = clf.cost_complexity_pruning_path(X_train, y_train)\n",
    "ccp_alphas, impurities = path.ccp_alphas, path.impurities"
   ]
  },
  {
   "cell_type": "code",
   "execution_count": 143,
   "id": "4516da24",
   "metadata": {},
   "outputs": [
    {
     "data": {
      "text/html": [
       "<div>\n",
       "<style scoped>\n",
       "    .dataframe tbody tr th:only-of-type {\n",
       "        vertical-align: middle;\n",
       "    }\n",
       "\n",
       "    .dataframe tbody tr th {\n",
       "        vertical-align: top;\n",
       "    }\n",
       "\n",
       "    .dataframe thead th {\n",
       "        text-align: right;\n",
       "    }\n",
       "</style>\n",
       "<table border=\"1\" class=\"dataframe\">\n",
       "  <thead>\n",
       "    <tr style=\"text-align: right;\">\n",
       "      <th></th>\n",
       "      <th>ccp_alphas</th>\n",
       "      <th>impurities</th>\n",
       "    </tr>\n",
       "  </thead>\n",
       "  <tbody>\n",
       "    <tr>\n",
       "      <th>0</th>\n",
       "      <td>0.000000e+00</td>\n",
       "      <td>0.007092</td>\n",
       "    </tr>\n",
       "    <tr>\n",
       "      <th>1</th>\n",
       "      <td>1.597841e-20</td>\n",
       "      <td>0.007092</td>\n",
       "    </tr>\n",
       "    <tr>\n",
       "      <th>2</th>\n",
       "      <td>1.597841e-20</td>\n",
       "      <td>0.007092</td>\n",
       "    </tr>\n",
       "    <tr>\n",
       "      <th>3</th>\n",
       "      <td>1.597841e-20</td>\n",
       "      <td>0.007092</td>\n",
       "    </tr>\n",
       "    <tr>\n",
       "      <th>4</th>\n",
       "      <td>1.597841e-20</td>\n",
       "      <td>0.007092</td>\n",
       "    </tr>\n",
       "    <tr>\n",
       "      <th>...</th>\n",
       "      <td>...</td>\n",
       "      <td>...</td>\n",
       "    </tr>\n",
       "    <tr>\n",
       "      <th>2760</th>\n",
       "      <td>8.141698e-03</td>\n",
       "      <td>0.264184</td>\n",
       "    </tr>\n",
       "    <tr>\n",
       "      <th>2761</th>\n",
       "      <td>9.268169e-03</td>\n",
       "      <td>0.273452</td>\n",
       "    </tr>\n",
       "    <tr>\n",
       "      <th>2762</th>\n",
       "      <td>1.380155e-02</td>\n",
       "      <td>0.301055</td>\n",
       "    </tr>\n",
       "    <tr>\n",
       "      <th>2763</th>\n",
       "      <td>2.058553e-02</td>\n",
       "      <td>0.321640</td>\n",
       "    </tr>\n",
       "    <tr>\n",
       "      <th>2764</th>\n",
       "      <td>7.431897e-02</td>\n",
       "      <td>0.395959</td>\n",
       "    </tr>\n",
       "  </tbody>\n",
       "</table>\n",
       "<p>2765 rows × 2 columns</p>\n",
       "</div>"
      ],
      "text/plain": [
       "        ccp_alphas  impurities\n",
       "0     0.000000e+00    0.007092\n",
       "1     1.597841e-20    0.007092\n",
       "2     1.597841e-20    0.007092\n",
       "3     1.597841e-20    0.007092\n",
       "4     1.597841e-20    0.007092\n",
       "...            ...         ...\n",
       "2760  8.141698e-03    0.264184\n",
       "2761  9.268169e-03    0.273452\n",
       "2762  1.380155e-02    0.301055\n",
       "2763  2.058553e-02    0.321640\n",
       "2764  7.431897e-02    0.395959\n",
       "\n",
       "[2765 rows x 2 columns]"
      ]
     },
     "execution_count": 143,
     "metadata": {},
     "output_type": "execute_result"
    }
   ],
   "source": [
    "pd.DataFrame(path)"
   ]
  },
  {
   "cell_type": "code",
   "execution_count": 144,
   "id": "50d1ef3d",
   "metadata": {},
   "outputs": [
    {
     "data": {
      "text/plain": [
       "<function matplotlib.pyplot.show(close=None, block=None)>"
      ]
     },
     "execution_count": 144,
     "metadata": {},
     "output_type": "execute_result"
    },
    {
     "data": {
      "image/png": "[encoded data removed]",
      "text/plain": [
       "<Figure size 720x360 with 1 Axes>"
      ]
     },
     "metadata": {
      "needs_background": "light"
     },
     "output_type": "display_data"
    }
   ],
   "source": [
    "fig, ax = plt.subplots(figsize=(10, 5))\n",
    "ax.plot(ccp_alphas[:-1], impurities[:-1], marker=\"o\", drawstyle=\"steps-post\")\n",
    "ax.set_xlabel(\"effective alpha\")\n",
    "ax.set_ylabel(\"total impurity of leaves\")\n",
    "ax.set_title(\"Total Impurity vs effective alpha for training set\")\n",
    "plt.show"
   ]
  },
  {
   "cell_type": "markdown",
   "id": "ae6425ac",
   "metadata": {},
   "source": [
    "#### Observation \n",
    "* We do not need to prune this tree."
   ]
  },
  {
   "cell_type": "markdown",
   "id": "nasty-retailer",
   "metadata": {
    "id": "nasty-retailer"
   },
   "source": [
    "## Actionable Insights and Recommendations\n",
    "\n",
    "- What profitable policies for cancellations and refunds can the hotel adopt?\n",
    "- What other recommedations would you suggest to the hotel?"
   ]
  },
  {
   "cell_type": "markdown",
   "id": "a3a767f3",
   "metadata": {
    "id": "amino-prediction"
   },
   "source": [
    "## Conclusions:\n",
    "\n",
    "* The model can be used to predict if a hotel room booking is going to be canceled or not\n",
    "* Different trees and their confusion matrix were used to better visualize and understand the model.\n",
    "* Lead_time, avg_price_per_room, and arrival_month are the most important variable in predicting the customers that will cancel their reservation.\n",
    "\n",
    "## Recommendations:\n",
    "\n",
    "* Using the information from the decision tree model, we can conclude that if a customer books their reservation in less than 58.49 days then the customer will not be cancelling their reservation.\n",
    "* The booking status has a negative correlation with the market segment type as complementary\n",
    "* When the price of a hotel room is lower, the booking is less likely to be canceled. This was exemplified through Room Type 7, 6 and 5, which all have strong correlation to bookings.\n",
    "* Most bookings occur during the months of June, July, and August.\n",
    "* Week nights have high correlation with booking and less likely to be canceled than weekend nights.\n",
    "* When the reservation is made online, the booking is less likely to get canceled."
   ]
  },
  {
   "cell_type": "markdown",
   "id": "8825fe61",
   "metadata": {},
   "source": [
    "## END"
   ]
  }
 ],
 "metadata": {
  "colab": {
   "name": "SLC_Project_Template_Notebook.ipynb",
   "provenance": []
  },
  "kernelspec": {
   "display_name": "Python 3 (ipykernel)",
   "language": "python",
   "name": "python3"
  },
  "language_info": {
   "codemirror_mode": {
    "name": "ipython",
    "version": 3
   },
   "file_extension": ".py",
   "mimetype": "text/x-python",
   "name": "python",
   "nbconvert_exporter": "python",
   "pygments_lexer": "ipython3",
   "version": "3.9.12"
  }
 },
 "nbformat": 4,
 "nbformat_minor": 5
}
